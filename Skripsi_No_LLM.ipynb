{
  "nbformat": 4,
  "nbformat_minor": 0,
  "metadata": {
    "colab": {
      "provenance": [],
      "gpuType": "T4",
      "authorship_tag": "ABX9TyPc9GA46oeb0B6h8bBOF4wf",
      "include_colab_link": true
    },
    "kernelspec": {
      "name": "python3",
      "display_name": "Python 3"
    },
    "language_info": {
      "name": "python"
    },
    "accelerator": "GPU"
  },
  "cells": [
    {
      "cell_type": "markdown",
      "metadata": {
        "id": "view-in-github",
        "colab_type": "text"
      },
      "source": [
        "<a href=\"https://colab.research.google.com/github/rafsanalhad/machine_learning_jobsheet/blob/main/Skripsi_No_LLM.ipynb\" target=\"_parent\"><img src=\"https://colab.research.google.com/assets/colab-badge.svg\" alt=\"Open In Colab\"/></a>"
      ]
    },
    {
      "cell_type": "code",
      "execution_count": 2,
      "metadata": {
        "colab": {
          "base_uri": "https://localhost:8080/"
        },
        "id": "IgepmOd0aGi2",
        "outputId": "c808ff20-47a9-4236-ce35-47daac37ef18"
      },
      "outputs": [
        {
          "output_type": "stream",
          "name": "stderr",
          "text": [
            "[nltk_data] Downloading package stopwords to /root/nltk_data...\n",
            "[nltk_data]   Package stopwords is already up-to-date!\n"
          ]
        },
        {
          "output_type": "stream",
          "name": "stdout",
          "text": [
            "Using Colab cache for faster access to the 'steam-games-complete-dataset' dataset.\n",
            "\n",
            "=== Rekomendasi Game Mirip Query ===\n",
            "Stellar Impact Bundle (score: 0.5441)\n",
            "Stellar Impact (score: 0.3596)\n",
            "The Fruitless Flower 雾雨中的徒花 (score: 0.3504)\n",
            "Iron Impact (score: 0.3477)\n",
            "Dodgeball Simulator VR (score: 0.3352)\n"
          ]
        }
      ],
      "source": [
        "# ========================\n",
        "# 0. Install & import\n",
        "# ========================\n",
        "!pip install kagglehub nltk scikit-learn --quiet\n",
        "\n",
        "import kagglehub\n",
        "import pandas as pd\n",
        "import os\n",
        "import re\n",
        "from sklearn.feature_extraction.text import TfidfVectorizer\n",
        "from sklearn.metrics.pairwise import cosine_similarity\n",
        "\n",
        "import nltk\n",
        "nltk.download('stopwords')\n",
        "from nltk.corpus import stopwords\n",
        "\n",
        "STOPWORDS = set(stopwords.words('english'))\n",
        "\n",
        "# ========================\n",
        "# 1. Download dataset Steam\n",
        "# ========================\n",
        "path = kagglehub.dataset_download(\"trolukovich/steam-games-complete-dataset\")\n",
        "csv_file = \"steam_games.csv\"\n",
        "csv_path = os.path.join(path, csv_file)\n",
        "df = pd.read_csv(csv_path)\n",
        "df = df.dropna(subset=['desc_snippet','genre'])\n",
        "games = df[['name','genre','desc_snippet']].head(40000)\n",
        "games.rename(columns={'desc_snippet':'about_the_game'}, inplace=True)\n",
        "\n",
        "# ========================\n",
        "# 2. Preprocessing teks\n",
        "# ========================\n",
        "def preprocess(text):\n",
        "    text = str(text).lower()\n",
        "    text = re.sub(r'[^a-z0-9\\s]', ' ', text)\n",
        "    tokens = [w for w in text.split() if w not in STOPWORDS]\n",
        "    return ' '.join(tokens)\n",
        "\n",
        "games['clean_text'] = games['about_the_game'].apply(preprocess)\n",
        "\n",
        "# ========================\n",
        "# 3. TF-IDF + Cosine Similarity untuk rekomendasi\n",
        "# ========================\n",
        "vectorizer = TfidfVectorizer(max_features=10000, ngram_range=(1,2))\n",
        "tfidf_matrix = vectorizer.fit_transform(games['clean_text'])\n",
        "\n",
        "def recommend(query, topk=5):\n",
        "    query_clean = preprocess(query)\n",
        "    q_vec = vectorizer.transform([query_clean])\n",
        "    sims = cosine_similarity(q_vec, tfidf_matrix)[0]\n",
        "    top_idx = sims.argsort()[::-1][:topk]\n",
        "    return [(games.iloc[i]['name'], sims[i]) for i in top_idx]\n",
        "\n",
        "# ========================\n",
        "# 4. Contoh penggunaan\n",
        "# ========================\n",
        "query = \"genshin impact\"\n",
        "print(\"\\n=== Rekomendasi Game Mirip Query ===\")\n",
        "for name, score in recommend(query):\n",
        "    print(f\"{name} (score: {score:.4f})\")\n"
      ]
    }
  ]
}