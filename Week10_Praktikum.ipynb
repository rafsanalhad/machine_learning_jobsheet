{
  "nbformat": 4,
  "nbformat_minor": 0,
  "metadata": {
    "colab": {
      "provenance": [],
      "gpuType": "V28",
      "authorship_tag": "ABX9TyP7IVZ13XhlzNre7Fg+mcHr",
      "include_colab_link": true
    },
    "kernelspec": {
      "name": "python3",
      "display_name": "Python 3"
    },
    "language_info": {
      "name": "python"
    },
    "accelerator": "TPU"
  },
  "cells": [
    {
      "cell_type": "markdown",
      "metadata": {
        "id": "view-in-github",
        "colab_type": "text"
      },
      "source": [
        "<a href=\"https://colab.research.google.com/github/rafsanalhad/machine_learning_jobsheet/blob/main/Week10_Praktikum.ipynb\" target=\"_parent\"><img src=\"https://colab.research.google.com/assets/colab-badge.svg\" alt=\"Open In Colab\"/></a>"
      ]
    },
    {
      "cell_type": "markdown",
      "source": [
        "Nama: Muhammad Harafsan Alhad\n",
        "\n",
        "Kelas: TI - 3C\n",
        "\n",
        "NIM: 22417200059"
      ],
      "metadata": {
        "id": "IfN47syO1kew"
      }
    },
    {
      "cell_type": "markdown",
      "source": [
        "# Praktikum 1 - RNN untuk Analisis Sentimen"
      ],
      "metadata": {
        "id": "LgJw6avs3FUy"
      }
    },
    {
      "cell_type": "markdown",
      "source": [
        "# Setup"
      ],
      "metadata": {
        "id": "JAX7QSAl3bER"
      }
    },
    {
      "cell_type": "markdown",
      "source": [
        "Impor matplotlib dan buat fungsi pembantu untuk memplot grafik:"
      ],
      "metadata": {
        "id": "uHdJpunc3exp"
      }
    },
    {
      "cell_type": "code",
      "execution_count": 1,
      "metadata": {
        "id": "gh6ryo9C1c0e"
      },
      "outputs": [],
      "source": [
        "import numpy as np\n",
        "import tensorflow_datasets as tfds\n",
        "import tensorflow as tf\n",
        "\n",
        "tfds.disable_progress_bar()"
      ]
    },
    {
      "cell_type": "code",
      "source": [
        "import matplotlib.pyplot as plt\n",
        "\n",
        "def plot_graphs(history, metric):\n",
        "  plt.plot(history.history[metric])\n",
        "  plt.plot(history.history['val_'+metric], '')\n",
        "  plt.xlabel(\"Epochs\")\n",
        "  plt.ylabel(metric)\n",
        "  plt.legend([metric, 'val_'+metric])"
      ],
      "metadata": {
        "id": "CH48EX_33lF_"
      },
      "execution_count": 2,
      "outputs": []
    },
    {
      "cell_type": "markdown",
      "source": [
        "# Setup input pipeline"
      ],
      "metadata": {
        "id": "HjRJJcaF323s"
      }
    },
    {
      "cell_type": "markdown",
      "source": [
        "Dataset ulasan film IMDB adalah kumpulan data klasifikasi biner—semua ulasan memiliki sentimen positif atau negatif.\n",
        "\n",
        "Download dataset menggunakan TFDS. Lihat loading text tutorial jika ingin me load data secara manual"
      ],
      "metadata": {
        "id": "6BMJ8gJL36WO"
      }
    },
    {
      "cell_type": "code",
      "source": [
        "dataset, info = tfds.load('imdb_reviews', with_info=True,\n",
        "                          as_supervised=True)\n",
        "train_dataset, test_dataset = dataset['train'], dataset['test']\n",
        "\n",
        "train_dataset.element_spec"
      ],
      "metadata": {
        "colab": {
          "base_uri": "https://localhost:8080/"
        },
        "id": "Ifdgv_-839QW",
        "outputId": "66e0a953-df6c-46f8-ce3d-5df9a4e771d8"
      },
      "execution_count": 3,
      "outputs": [
        {
          "output_type": "stream",
          "name": "stdout",
          "text": [
            "Downloading and preparing dataset 80.23 MiB (download: 80.23 MiB, generated: Unknown size, total: 80.23 MiB) to /root/tensorflow_datasets/imdb_reviews/plain_text/1.0.0...\n",
            "Dataset imdb_reviews downloaded and prepared to /root/tensorflow_datasets/imdb_reviews/plain_text/1.0.0. Subsequent calls will reuse this data.\n"
          ]
        },
        {
          "output_type": "execute_result",
          "data": {
            "text/plain": [
              "(TensorSpec(shape=(), dtype=tf.string, name=None),\n",
              " TensorSpec(shape=(), dtype=tf.int64, name=None))"
            ]
          },
          "metadata": {},
          "execution_count": 3
        }
      ]
    },
    {
      "cell_type": "markdown",
      "source": [
        "Awalnya ini mengembalikan dataset (teks, pasangan label):"
      ],
      "metadata": {
        "id": "oadGHXr03_0a"
      }
    },
    {
      "cell_type": "code",
      "source": [
        "for example, label in train_dataset.take(1):\n",
        "  print('text: ', example.numpy())\n",
        "  print('label: ', label.numpy())"
      ],
      "metadata": {
        "colab": {
          "base_uri": "https://localhost:8080/"
        },
        "id": "GAN2XOAk4BMP",
        "outputId": "b0d4547b-f24f-42fc-ae95-46e3d7053544"
      },
      "execution_count": 4,
      "outputs": [
        {
          "output_type": "stream",
          "name": "stdout",
          "text": [
            "text:  b\"This was an absolutely terrible movie. Don't be lured in by Christopher Walken or Michael Ironside. Both are great actors, but this must simply be their worst role in history. Even their great acting could not redeem this movie's ridiculous storyline. This movie is an early nineties US propaganda piece. The most pathetic scenes were those when the Columbian rebels were making their cases for revolutions. Maria Conchita Alonso appeared phony, and her pseudo-love affair with Walken was nothing but a pathetic emotional plug in a movie that was devoid of any real meaning. I am disappointed that there are movies like this, ruining actor's like Christopher Walken's good name. I could barely sit through it.\"\n",
            "label:  0\n"
          ]
        }
      ]
    },
    {
      "cell_type": "markdown",
      "source": [
        "Berikutnya acak data untuk pelatihan dan membuat kumpulan pasangan (teks, label) ini:"
      ],
      "metadata": {
        "id": "HxImOjnP4GaJ"
      }
    },
    {
      "cell_type": "code",
      "source": [
        "BUFFER_SIZE = 10000\n",
        "BATCH_SIZE = 64\n",
        "\n",
        "train_dataset = train_dataset.shuffle(BUFFER_SIZE).batch(BATCH_SIZE).prefetch(tf.data.AUTOTUNE)\n",
        "test_dataset = test_dataset.batch(BATCH_SIZE).prefetch(tf.data.AUTOTUNE)\n",
        "\n",
        "for example, label in train_dataset.take(1):\n",
        "  print('texts: ', example.numpy()[:3])\n",
        "  print()\n",
        "  print('labels: ', label.numpy()[:3])"
      ],
      "metadata": {
        "colab": {
          "base_uri": "https://localhost:8080/"
        },
        "id": "9h8pM3Uv4J8Y",
        "outputId": "e1d98e8b-03eb-46d0-f542-f43e8916e690"
      },
      "execution_count": 5,
      "outputs": [
        {
          "output_type": "stream",
          "name": "stdout",
          "text": [
            "texts:  [b'***SPOILERS*** ***SPOILERS*** Are all teen slasher flicks suffering from a drought of originality? It awfully seems so. First of all, this is a noble premise that could\\'ve been utilized well. A rejected young nerd who grows up, stalks and murders all the girls who tortured the hell out of him when he was in junior high? Can\\'t say you had nothing to work with. But this film goes through the same motions as all the other recent slashers. Everything from the score to the camera angles allow us to predict exactly when a false alarm is coming and exactly when the killer will strike. We know the pattern by now. These stupid slasher movies push the credibility envelope more and more by the minute. Let me ask you something: Who, in their right mind, is going to surprise a friend of theirs in a dark, dreary morgue in the middle of the night and just surprise her out of the blue while she\\'s all alone and surrounded by corpses? Does that make any damn sense at all?<br /><br />\"Valentine\" is only occasionally innovative. One good shot involves the butchering of Denise Richards\\' character. She gets trapped inside a pool and the killer pokes at her with a chainsaw. There\\'s some good songs in the soundtrack, including one cool track by Orgy. The music video is contained in the special features section on the DVD.<br /><br />Even the acting is mediocre at best. The actors all sleep through their roles. Of course, David Boreanaz is often stoic, even in his portrayal as the title character on \"Angel.\" Denise Richards is a fine actress, though, and she keeps a stoneface throughout the movie.<br /><br />\"Valentine\" is just like you\\'d expect: pretentious, implausible, forgettable, cheesy and without a good scare in sight. Don\\'t even bother.<br /><br />My score: 4 (out of 10)'\n",
            " b\"If you like to be entertained, do not go see this movie. If you like to see heroics of war, do not go see this movie. If you like to see good acting and an excellent screenplay, do not go see this movie. If you like typical hollywood war films that end just in time to give a politically charged appeal to the public about the greatness and glory of war, GO SEE THIS MOVIE. Otherwise, don't waste your time. I am always interested in war movies because I think that if they are done well, they can TEACH us something about the paradoxical and worthless qualities of war. This film shows a bunch of guys running around the countryside, saying whorrible cliche lines, doing the most predictable things, and defending the oppressed with the same exact force and brutality that was being given to the oppressed. This film is a disgrace to filmmaking and to the United States of America! Can you imagine being a person from Europe or Africa, or any other country and watching this, being told that this is how Americans truly are? No wonder everyone hates us! Please, please, please, don't waste your time on this piece of junk; if you must, wait and rent it. 4/10\"\n",
            " b\"Mind, my friends and I saw the movie based off it's title alone. It's cute, though obvious in it's plot and direction-- you know where the movie is going within the first five minutes. My main contention with the plot is that while it remains tolerably consistent, they never explain a lot of the things behind the characters. An alcoholic father, overworked mother, stressed-out sister... that's a bad family, but aside from the occasional mention from the sister, there's not any resolution. I was also confused as to the scene with the bottles... it seemed pretty random.<br /><br />The writing is a secondary concern... the kids weren't bad actors, but their script left a lot to be desired. Unfortunately, what could have been a cute niche movie was pushed aside for a single, blah special effect, lame scripting, and a glaringly obvious plot.\"]\n",
            "\n",
            "labels:  [0 0 0]\n"
          ]
        }
      ]
    },
    {
      "cell_type": "markdown",
      "source": [
        "# Buat Teks Encoder"
      ],
      "metadata": {
        "id": "9MRbjJJl4JkG"
      }
    },
    {
      "cell_type": "markdown",
      "source": [
        "Teks mentah yang dimuat oleh tfds perlu diproses sebelum dapat digunakan dalam model. Cara termudah memproses teks untuk pelatihan adalah menggunakan lapisan TextVectorization. Lapisan ini memiliki banyak kemampuan, namun pada tutorial ini menggunakan perilaku default. Buat lapisan tersebut, dan teruskan teks kumpulan data ke metode .adapt lapisan:"
      ],
      "metadata": {
        "id": "JPnnOXiW4oSI"
      }
    },
    {
      "cell_type": "code",
      "source": [
        "VOCAB_SIZE = 1000\n",
        "encoder = tf.keras.layers.TextVectorization(\n",
        "    max_tokens=VOCAB_SIZE)\n",
        "encoder.adapt(train_dataset.map(lambda text, label: text))"
      ],
      "metadata": {
        "id": "F9rmUSB-4qvq"
      },
      "execution_count": 6,
      "outputs": []
    },
    {
      "cell_type": "markdown",
      "source": [
        "Metode .adapt mengatur kosakata lapisan. 20 token pertama dapat dilihat dengan kode berikut. Setelah padding dan token yang tidak diketahui, mereka diurutkan berdasarkan frekuensi:"
      ],
      "metadata": {
        "id": "SPRoeo7Z4p6x"
      }
    },
    {
      "cell_type": "code",
      "source": [
        "vocab = np.array(encoder.get_vocabulary())\n",
        "vocab[:20]"
      ],
      "metadata": {
        "colab": {
          "base_uri": "https://localhost:8080/"
        },
        "id": "vOpyb28T50fi",
        "outputId": "8e208140-9542-4c1f-b8f9-f84767048cc6"
      },
      "execution_count": 7,
      "outputs": [
        {
          "output_type": "execute_result",
          "data": {
            "text/plain": [
              "array(['', '[UNK]', 'the', 'and', 'a', 'of', 'to', 'is', 'in', 'it', 'i',\n",
              "       'this', 'that', 'br', 'was', 'as', 'for', 'with', 'movie', 'but'],\n",
              "      dtype='<U14')"
            ]
          },
          "metadata": {},
          "execution_count": 7
        }
      ]
    },
    {
      "cell_type": "markdown",
      "source": [
        "Setelah kosakata diatur, lapisan dapat mengkodekan teks ke dalam indeks. Tensor indeks diberi bantalan 0 ke urutan terpanjang dalam batch (kecuali jika Anda menetapkan output_sequence_length tetap):"
      ],
      "metadata": {
        "id": "U9dxuT3254je"
      }
    },
    {
      "cell_type": "code",
      "source": [
        "encoded_example = encoder(example)[:3].numpy()\n",
        "encoded_example"
      ],
      "metadata": {
        "colab": {
          "base_uri": "https://localhost:8080/"
        },
        "id": "gVSew1GO57j3",
        "outputId": "b7818298-a7de-4163-e5ec-8ff8b59a0313"
      },
      "execution_count": 8,
      "outputs": [
        {
          "output_type": "execute_result",
          "data": {
            "text/plain": [
              "array([[  1,   1,  24, ...,   0,   0,   0],\n",
              "       [ 45,  23,  39, ...,   0,   0,   0],\n",
              "       [349,  56, 340, ...,   0,   0,   0]])"
            ]
          },
          "metadata": {},
          "execution_count": 8
        }
      ]
    },
    {
      "cell_type": "markdown",
      "source": [
        "Dengan pengaturan default, prosesnya tidak dapat dibalik sepenuhnya. Ada dua alasan utama untuk itu:\n",
        "\n",
        "Nilai default untuk argumen standarisasi preprocessing.TextVectorization adalah \"lower_and_strip_punctuation\".\n",
        "\n",
        "Ukuran kosa kata yang terbatas dan kurangnya fallback berbasis karakter menghasilkan beberapa token yang tidak diketahui."
      ],
      "metadata": {
        "id": "Jm6wmjHl6BxC"
      }
    },
    {
      "cell_type": "code",
      "source": [
        "for n in range(3):\n",
        "  print(\"Original: \", example[n].numpy())\n",
        "  print(\"Round-trip: \", \" \".join(vocab[encoded_example[n]]))\n",
        "  print()"
      ],
      "metadata": {
        "colab": {
          "base_uri": "https://localhost:8080/"
        },
        "id": "mbx_1jpV6EZP",
        "outputId": "5d27476c-a41c-45c2-e959-02126ec2aa60"
      },
      "execution_count": 9,
      "outputs": [
        {
          "output_type": "stream",
          "name": "stdout",
          "text": [
            "Original:  b'***SPOILERS*** ***SPOILERS*** Are all teen slasher flicks suffering from a drought of originality? It awfully seems so. First of all, this is a noble premise that could\\'ve been utilized well. A rejected young nerd who grows up, stalks and murders all the girls who tortured the hell out of him when he was in junior high? Can\\'t say you had nothing to work with. But this film goes through the same motions as all the other recent slashers. Everything from the score to the camera angles allow us to predict exactly when a false alarm is coming and exactly when the killer will strike. We know the pattern by now. These stupid slasher movies push the credibility envelope more and more by the minute. Let me ask you something: Who, in their right mind, is going to surprise a friend of theirs in a dark, dreary morgue in the middle of the night and just surprise her out of the blue while she\\'s all alone and surrounded by corpses? Does that make any damn sense at all?<br /><br />\"Valentine\" is only occasionally innovative. One good shot involves the butchering of Denise Richards\\' character. She gets trapped inside a pool and the killer pokes at her with a chainsaw. There\\'s some good songs in the soundtrack, including one cool track by Orgy. The music video is contained in the special features section on the DVD.<br /><br />Even the acting is mediocre at best. The actors all sleep through their roles. Of course, David Boreanaz is often stoic, even in his portrayal as the title character on \"Angel.\" Denise Richards is a fine actress, though, and she keeps a stoneface throughout the movie.<br /><br />\"Valentine\" is just like you\\'d expect: pretentious, implausible, forgettable, cheesy and without a good scare in sight. Don\\'t even bother.<br /><br />My score: 4 (out of 10)'\n",
            "Round-trip:  [UNK] [UNK] are all [UNK] [UNK] [UNK] [UNK] from a [UNK] of [UNK] it [UNK] seems so first of all this is a [UNK] premise that [UNK] been [UNK] well a [UNK] young [UNK] who [UNK] up [UNK] and [UNK] all the girls who [UNK] the hell out of him when he was in [UNK] high cant say you had nothing to work with but this film goes through the same [UNK] as all the other [UNK] [UNK] everything from the score to the camera [UNK] [UNK] us to [UNK] exactly when a [UNK] [UNK] is coming and exactly when the killer will [UNK] we know the [UNK] by now these stupid [UNK] movies [UNK] the [UNK] [UNK] more and more by the minute let me ask you something who in their right mind is going to surprise a friend of [UNK] in a dark [UNK] [UNK] in the middle of the night and just surprise her out of the [UNK] while shes all alone and [UNK] by [UNK] does that make any [UNK] sense at [UNK] br [UNK] is only [UNK] [UNK] one good shot [UNK] the [UNK] of [UNK] [UNK] character she gets [UNK] inside a [UNK] and the killer [UNK] at her with a [UNK] theres some good songs in the soundtrack including one cool [UNK] by [UNK] the music video is [UNK] in the special features [UNK] on the [UNK] br even the acting is [UNK] at best the actors all [UNK] through their roles of course david [UNK] is often [UNK] even in his [UNK] as the title character on [UNK] [UNK] [UNK] is a fine actress though and she keeps a [UNK] throughout the moviebr br [UNK] is just like [UNK] expect [UNK] [UNK] [UNK] cheesy and without a good [UNK] in [UNK] dont even [UNK] br my score 4 out of 10                                                                                                                                                                                                                                                                                                                                                                         \n",
            "\n",
            "Original:  b\"If you like to be entertained, do not go see this movie. If you like to see heroics of war, do not go see this movie. If you like to see good acting and an excellent screenplay, do not go see this movie. If you like typical hollywood war films that end just in time to give a politically charged appeal to the public about the greatness and glory of war, GO SEE THIS MOVIE. Otherwise, don't waste your time. I am always interested in war movies because I think that if they are done well, they can TEACH us something about the paradoxical and worthless qualities of war. This film shows a bunch of guys running around the countryside, saying whorrible cliche lines, doing the most predictable things, and defending the oppressed with the same exact force and brutality that was being given to the oppressed. This film is a disgrace to filmmaking and to the United States of America! Can you imagine being a person from Europe or Africa, or any other country and watching this, being told that this is how Americans truly are? No wonder everyone hates us! Please, please, please, don't waste your time on this piece of junk; if you must, wait and rent it. 4/10\"\n",
            "Round-trip:  if you like to be [UNK] do not go see this movie if you like to see [UNK] of war do not go see this movie if you like to see good acting and an excellent screenplay do not go see this movie if you like typical hollywood war films that end just in time to give a [UNK] [UNK] [UNK] to the [UNK] about the [UNK] and [UNK] of war go see this movie otherwise dont waste your time i am always interested in war movies because i think that if they are done well they can [UNK] us something about the [UNK] and [UNK] [UNK] of war this film shows a bunch of guys running around the [UNK] saying [UNK] [UNK] lines doing the most predictable things and [UNK] the [UNK] with the same [UNK] [UNK] and [UNK] that was being given to the [UNK] this film is a [UNK] to [UNK] and to the [UNK] [UNK] of america can you imagine being a person from [UNK] or [UNK] or any other country and watching this being told that this is how [UNK] truly are no wonder everyone [UNK] us please please please dont waste your time on this piece of [UNK] if you must wait and rent it [UNK]                                                                                                                                                                                                                                                                                                                                                                                                                                                                          \n",
            "\n",
            "Original:  b\"Mind, my friends and I saw the movie based off it's title alone. It's cute, though obvious in it's plot and direction-- you know where the movie is going within the first five minutes. My main contention with the plot is that while it remains tolerably consistent, they never explain a lot of the things behind the characters. An alcoholic father, overworked mother, stressed-out sister... that's a bad family, but aside from the occasional mention from the sister, there's not any resolution. I was also confused as to the scene with the bottles... it seemed pretty random.<br /><br />The writing is a secondary concern... the kids weren't bad actors, but their script left a lot to be desired. Unfortunately, what could have been a cute niche movie was pushed aside for a single, blah special effect, lame scripting, and a glaringly obvious plot.\"\n",
            "Round-trip:  mind my friends and i saw the movie based off its title alone its [UNK] though obvious in its plot and direction you know where the movie is going within the first five minutes my main [UNK] with the plot is that while it [UNK] [UNK] [UNK] they never [UNK] a lot of the things behind the characters an [UNK] father [UNK] mother [UNK] sister thats a bad family but [UNK] from the [UNK] mention from the sister theres not any [UNK] i was also [UNK] as to the scene with the [UNK] it seemed pretty [UNK] br the writing is a [UNK] [UNK] the kids [UNK] bad actors but their script left a lot to be [UNK] unfortunately what could have been a [UNK] [UNK] movie was [UNK] [UNK] for a single [UNK] special effect lame [UNK] and a [UNK] obvious plot                                                                                                                                                                                                                                                                                                                                                                                                                                                                                                                                               \n",
            "\n"
          ]
        }
      ]
    },
    {
      "cell_type": "markdown",
      "source": [
        "# Buat Model"
      ],
      "metadata": {
        "id": "89ol0m6X6igu"
      }
    },
    {
      "cell_type": "markdown",
      "source": [
        "![Screenshot 2024-11-09 193353.png](data:image/png;base64,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)"
      ],
      "metadata": {
        "id": "RzZP-Gln6lUK"
      }
    },
    {
      "cell_type": "markdown",
      "source": [
        "diagram model dapat dilihat pada gambar diatas\n",
        "\n",
        "1. Model ini dapat dibuat sebagai tf.keras.Sequential.\n",
        "\n",
        "2. Lapisan pertama adalah encoder, yang mengubah teks menjadi urutan indeks token.\n",
        "\n",
        "3. Setelah encoder adalah lapisan penyematan (embedding layer). Lapisan penyematan menyimpan satu vektor per kata. Saat dipanggil, ini mengubah rangkaian indeks kata menjadi rangkaian vektor. Vektor-vektor ini dapat dilatih. Setelah pelatihan (dengan data yang cukup), kata-kata dengan arti yang mirip sering kali memiliki vektor yang serupa. Pencarian indeks ini jauh lebih efisien daripada operasi setara dengan meneruskan vektor yang disandikan one-hot melalui lapisan tf.keras.layers.Dense.\n",
        "\n",
        "4. Jaringan saraf berulang (RNN) memproses masukan urutan dengan melakukan iterasi melalui elemen. RNN meneruskan keluaran dari satu langkah waktu ke masukannya pada langkah waktu berikutnya.\n",
        "\n",
        "Pembungkus tf.keras.layers.Bidirection juga dapat digunakan dengan lapisan RNN. Ini menyebarkan masukan maju dan mundur melalui lapisan RNN dan kemudian menggabungkan keluaran akhir.\n",
        "\n",
        "1. Keuntungan utama RNN dua arah adalah sinyal dari awal masukan tidak perlu diproses sepanjang waktu untuk memengaruhi keluaran.\n",
        "\n",
        "2. Kerugian utama dari RNN dua arah adalah Anda tidak dapat melakukan streaming prediksi secara efisien saat kata-kata ditambahkan di akhir.\n",
        "\n",
        "3. Setelah RNN mengonversi urutan menjadi satu vektor, kedua lapisan tersebut.Dense melakukan beberapa pemrosesan akhir, dan mengonversi representasi vektor ini menjadi logit tunggal sebagai keluaran klasifikasi.\n",
        "\n",
        "Kode nya adalah sebagai berikut :"
      ],
      "metadata": {
        "id": "BRK9LYrf6xTz"
      }
    },
    {
      "cell_type": "code",
      "source": [
        "model = tf.keras.Sequential([\n",
        "    encoder,\n",
        "    tf.keras.layers.Embedding(\n",
        "        input_dim=len(encoder.get_vocabulary()),\n",
        "        output_dim=64,\n",
        "        # Use masking to handle the variable sequence lengths\n",
        "        mask_zero=True),\n",
        "    tf.keras.layers.Bidirectional(tf.keras.layers.LSTM(64)),\n",
        "    tf.keras.layers.Dense(64, activation='relu'),\n",
        "    tf.keras.layers.Dense(1)\n",
        "])"
      ],
      "metadata": {
        "id": "P2PYdB_b7G0Q"
      },
      "execution_count": 10,
      "outputs": []
    },
    {
      "cell_type": "code",
      "source": [
        "print([layer.supports_masking for layer in model.layers])"
      ],
      "metadata": {
        "colab": {
          "base_uri": "https://localhost:8080/"
        },
        "id": "CSDXKTAfAPai",
        "outputId": "d376ad88-41e6-4799-a47f-c8af4f6b0406"
      },
      "execution_count": 11,
      "outputs": [
        {
          "output_type": "stream",
          "name": "stdout",
          "text": [
            "[False, True, True, True, True]\n"
          ]
        }
      ]
    },
    {
      "cell_type": "markdown",
      "source": [
        "Harap dicatat bahwa model sekuensial Keras digunakan di sini karena semua lapisan dalam model hanya memiliki masukan tunggal dan menghasilkan keluaran tunggal. Jika Anda ingin menggunakan lapisan RNN stateful, Anda mungkin ingin membangun model Anda dengan API fungsional Keras atau subkelas model sehingga Anda dapat mengambil dan menggunakan kembali status lapisan RNN. Untuk detailnya bisa dilihat pada Keras RNN guide\n",
        "\n",
        "Lapisan penyematan menggunakan masking (uses masking ) untuk menangani panjang urutan yang bervariasi. Semua lapisan setelah penyematan dukungan penyematan"
      ],
      "metadata": {
        "id": "56sHObh67MOH"
      }
    },
    {
      "cell_type": "code",
      "source": [
        "for layer in model.layers:\n",
        "    print(layer.supports_masking or layer in model.layers)"
      ],
      "metadata": {
        "colab": {
          "base_uri": "https://localhost:8080/"
        },
        "id": "l4-Pnfkq7OL1",
        "outputId": "ec400c64-37e0-4e24-b3f2-3f9c056fd70c"
      },
      "execution_count": 12,
      "outputs": [
        {
          "output_type": "stream",
          "name": "stdout",
          "text": [
            "True\n",
            "True\n",
            "True\n",
            "True\n",
            "True\n"
          ]
        }
      ]
    },
    {
      "cell_type": "markdown",
      "source": [
        "Untuk memastikan bahwa ini berfungsi seperti yang diharapkan, evaluasi sebuah kalimat dua kali. Pertama, satu kalimat sehingga tidak ada bantalan (padding) untuk disamarkan:"
      ],
      "metadata": {
        "id": "xsWCYJqq7TAI"
      }
    },
    {
      "cell_type": "code",
      "source": [
        "# predict on a sample text without padding.\n",
        "\n",
        "sample_text = ('The movie was cool. The animation and the graphics '\n",
        "               'were out of this world. I would recommend this movie.')\n",
        "predictions = model.predict(np.array([sample_text]))\n",
        "print(predictions[0])"
      ],
      "metadata": {
        "colab": {
          "base_uri": "https://localhost:8080/"
        },
        "id": "kUwoOBRo7YIu",
        "outputId": "29118a7c-9be0-46c7-a558-ccd272d9599f"
      },
      "execution_count": 13,
      "outputs": [
        {
          "output_type": "stream",
          "name": "stdout",
          "text": [
            "1/1 [==============================] - 2s 2s/step\n",
            "[0.02040902]\n"
          ]
        }
      ]
    },
    {
      "cell_type": "markdown",
      "source": [
        "Sekarang, evaluasi lagi dalam batch dengan kalimat yang lebih panjang. Hasilnya harus sama:"
      ],
      "metadata": {
        "id": "iPPdfVLdB830"
      }
    },
    {
      "cell_type": "code",
      "source": [
        "# predict on a sample text with padding\n",
        "\n",
        "padding = \"the \" * 2000\n",
        "predictions = model.predict(np.array([sample_text, padding]))\n",
        "print(predictions[0])"
      ],
      "metadata": {
        "colab": {
          "base_uri": "https://localhost:8080/"
        },
        "id": "ES3Qd08QB-8g",
        "outputId": "f797f1d1-0e3b-47d5-9847-54a45c02021a"
      },
      "execution_count": 14,
      "outputs": [
        {
          "output_type": "stream",
          "name": "stdout",
          "text": [
            "1/1 [==============================] - 0s 195ms/step\n",
            "[0.02040901]\n"
          ]
        }
      ]
    },
    {
      "cell_type": "markdown",
      "source": [
        "compile model Keras untuk mengonfigurasi proses pelatihan:"
      ],
      "metadata": {
        "id": "a5tSyJv8CDBX"
      }
    },
    {
      "cell_type": "code",
      "source": [
        "model.compile(loss=tf.keras.losses.BinaryCrossentropy(from_logits=True),\n",
        "              optimizer=tf.keras.optimizers.Adam(1e-4),\n",
        "              metrics=['accuracy'])"
      ],
      "metadata": {
        "id": "ndreN77ACGJA"
      },
      "execution_count": 15,
      "outputs": []
    },
    {
      "cell_type": "markdown",
      "source": [
        "# Train Model"
      ],
      "metadata": {
        "id": "5KAuRAJRCKz9"
      }
    },
    {
      "cell_type": "code",
      "source": [
        "history = model.fit(train_dataset, epochs=5, validation_data=test_dataset, validation_steps=30)"
      ],
      "metadata": {
        "colab": {
          "base_uri": "https://localhost:8080/"
        },
        "id": "SIAYeZYDCNGi",
        "outputId": "d2aa45f1-570f-46b7-8bf9-82bd8a67095d"
      },
      "execution_count": 16,
      "outputs": [
        {
          "output_type": "stream",
          "name": "stdout",
          "text": [
            "Epoch 1/5\n",
            "391/391 [==============================] - 233s 578ms/step - loss: 0.6473 - accuracy: 0.5545 - val_loss: 0.5032 - val_accuracy: 0.6786\n",
            "Epoch 2/5\n",
            "391/391 [==============================] - 222s 567ms/step - loss: 0.4428 - accuracy: 0.7918 - val_loss: 0.3893 - val_accuracy: 0.8354\n",
            "Epoch 3/5\n",
            "391/391 [==============================] - 219s 561ms/step - loss: 0.3573 - accuracy: 0.8402 - val_loss: 0.3492 - val_accuracy: 0.8406\n",
            "Epoch 4/5\n",
            "391/391 [==============================] - 221s 566ms/step - loss: 0.3287 - accuracy: 0.8558 - val_loss: 0.3342 - val_accuracy: 0.8505\n",
            "Epoch 5/5\n",
            "391/391 [==============================] - 219s 559ms/step - loss: 0.3209 - accuracy: 0.8607 - val_loss: 0.3307 - val_accuracy: 0.8568\n"
          ]
        }
      ]
    },
    {
      "cell_type": "code",
      "source": [
        "test_loss, test_acc = model.evaluate(test_dataset)\n",
        "\n",
        "print('Test Loss:', test_loss)\n",
        "print('Test Accuracy:', test_acc)"
      ],
      "metadata": {
        "colab": {
          "base_uri": "https://localhost:8080/"
        },
        "id": "61vnUi5KGnMq",
        "outputId": "9ecfcead-d8c2-4890-e223-c612f950d29c"
      },
      "execution_count": 17,
      "outputs": [
        {
          "output_type": "stream",
          "name": "stdout",
          "text": [
            "391/391 [==============================] - 65s 166ms/step - loss: 0.3244 - accuracy: 0.8626\n",
            "Test Loss: 0.3244134187698364\n",
            "Test Accuracy: 0.862559974193573\n"
          ]
        }
      ]
    },
    {
      "cell_type": "code",
      "source": [
        "plt.figure(figsize=(16, 8))\n",
        "plt.subplot(1, 2, 1)\n",
        "plot_graphs(history, 'accuracy')\n",
        "plt.ylim(None, 1)\n",
        "plt.subplot(1, 2, 2)\n",
        "plot_graphs(history, 'loss')\n",
        "plt.ylim(0, None)"
      ],
      "metadata": {
        "colab": {
          "base_uri": "https://localhost:8080/",
          "height": 540
        },
        "id": "rZmts8FOG_-A",
        "outputId": "913416d2-19b4-429a-f271-a6aefae02738"
      },
      "execution_count": 18,
      "outputs": [
        {
          "output_type": "execute_result",
          "data": {
            "text/plain": [
              "(0.0, 0.6636566773056984)"
            ]
          },
          "metadata": {},
          "execution_count": 18
        },
        {
          "output_type": "display_data",
          "data": {
            "text/plain": [
              "<Figure size 1600x800 with 2 Axes>"
            ],
            "image/png": "[encoded data removed]"
          },
          "metadata": {}
        }
      ]
    },
    {
      "cell_type": "markdown",
      "source": [
        "Jalankan prediksi pada kalimat baru:\n",
        "\n",
        "Jika prediksi >= 0,0 berarti positif, jika tidak maka negatif."
      ],
      "metadata": {
        "id": "dcox6UGsHDUF"
      }
    },
    {
      "cell_type": "code",
      "source": [
        "sample_text = ('The movie was cool. The animation and the graphics '\n",
        "               'were out of this world. I would recommend this movie.')\n",
        "predictions = model.predict(np.array([sample_text]))"
      ],
      "metadata": {
        "colab": {
          "base_uri": "https://localhost:8080/"
        },
        "id": "Efp3EMctIAu9",
        "outputId": "3c5e64a2-1d7f-47fc-b221-bae575cdc333"
      },
      "execution_count": 19,
      "outputs": [
        {
          "output_type": "stream",
          "name": "stdout",
          "text": [
            "1/1 [==============================] - 3s 3s/step\n"
          ]
        }
      ]
    },
    {
      "cell_type": "markdown",
      "source": [
        "# Stack two or more LSTM layers"
      ],
      "metadata": {
        "id": "pVzZzZwwH_2T"
      }
    },
    {
      "cell_type": "markdown",
      "source": [
        "Lapisan berulang Keras memiliki dua mode yang tersedia yang dikontrol oleh argumen konstruktor return_sequences :\n",
        "\n",
        "Jika False, ia hanya mengembalikan keluaran terakhir untuk setiap urutan masukan (bentuk tensor 2D (batch_size, output_features)). Ini adalah default yang digunakan pada model sebelumnya.\n",
        "\n",
        "Jika True, Sequence lengkap output berturut-turut untuk setiap langkah waktu dikembalikan (bentuk tensor 3D (ukuran_batch, langkah waktu, fitur_output)).\n",
        "\n",
        "Berikut adalah alur informasi dengan return_sequences=True:"
      ],
      "metadata": {
        "id": "kM1COKNYII1D"
      }
    },
    {
      "cell_type": "markdown",
      "source": [
        "![image.png](data:image/png;base64,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)"
      ],
      "metadata": {
        "id": "PsyLfDwUIQKO"
      }
    },
    {
      "cell_type": "markdown",
      "source": [
        "Hal yang menarik dari penggunaan RNN dengan return_sequences=True adalah outputnya masih memiliki 3 axis, sama seperti inputnya, sehingga bisa diteruskan ke layer RNN lain, seperti ini:"
      ],
      "metadata": {
        "id": "21navH7fISNC"
      }
    },
    {
      "cell_type": "code",
      "source": [
        "model = tf.keras.Sequential([\n",
        "    encoder,\n",
        "    tf.keras.layers.Embedding(len(encoder.get_vocabulary()), 64, mask_zero=True),\n",
        "    tf.keras.layers.Bidirectional(tf.keras.layers.LSTM(64, return_sequences=True)),\n",
        "    tf.keras.layers.Bidirectional(tf.keras.layers.LSTM(32)),\n",
        "    tf.keras.layers.Dense(64, activation='relu'),\n",
        "    tf.keras.layers.Dropout(0.5),\n",
        "    tf.keras.layers.Dense(1)\n",
        "])"
      ],
      "metadata": {
        "id": "jTJni9ubIVdY"
      },
      "execution_count": 20,
      "outputs": []
    },
    {
      "cell_type": "code",
      "source": [
        "model.compile(loss=tf.keras.losses.BinaryCrossentropy(from_logits=True),\n",
        "optimizer=tf.keras.optimizers.Adam(1e-4), metrics=['accuracy'])\n",
        ""
      ],
      "metadata": {
        "id": "vcFc0RVOIqP6"
      },
      "execution_count": 21,
      "outputs": []
    },
    {
      "cell_type": "code",
      "source": [
        "history = model.fit(train_dataset, epochs=5, validation_data=test_dataset, validation_steps=30)"
      ],
      "metadata": {
        "colab": {
          "base_uri": "https://localhost:8080/"
        },
        "id": "wSda7kAuIuYg",
        "outputId": "e821e4d5-2afd-4c01-8752-99fb9486dbf6"
      },
      "execution_count": 22,
      "outputs": [
        {
          "output_type": "stream",
          "name": "stdout",
          "text": [
            "Epoch 1/5\n",
            "391/391 [==============================] - 444s 1s/step - loss: 0.6209 - accuracy: 0.5926 - val_loss: 0.5417 - val_accuracy: 0.7161\n",
            "Epoch 2/5\n",
            "391/391 [==============================] - 430s 1s/step - loss: 0.4085 - accuracy: 0.8210 - val_loss: 0.3695 - val_accuracy: 0.8349\n",
            "Epoch 3/5\n",
            "391/391 [==============================] - 426s 1s/step - loss: 0.3462 - accuracy: 0.8528 - val_loss: 0.3365 - val_accuracy: 0.8406\n",
            "Epoch 4/5\n",
            "391/391 [==============================] - 428s 1s/step - loss: 0.3265 - accuracy: 0.8611 - val_loss: 0.3260 - val_accuracy: 0.8536\n",
            "Epoch 5/5\n",
            "391/391 [==============================] - 431s 1s/step - loss: 0.3174 - accuracy: 0.8634 - val_loss: 0.3460 - val_accuracy: 0.8245\n"
          ]
        }
      ]
    },
    {
      "cell_type": "code",
      "source": [
        "test_loss, test_acc = model.evaluate(test_dataset)\n",
        "\n",
        "print('Test Loss:', test_loss)\n",
        "print('Test Accuracy:', test_acc)"
      ],
      "metadata": {
        "colab": {
          "base_uri": "https://localhost:8080/"
        },
        "id": "7cl1b3FPMZHE",
        "outputId": "67b02694-0123-4d10-9048-a2ee1a082ba2"
      },
      "execution_count": 23,
      "outputs": [
        {
          "output_type": "stream",
          "name": "stdout",
          "text": [
            "391/391 [==============================] - 116s 298ms/step - loss: 0.3430 - accuracy: 0.8252\n",
            "Test Loss: 0.3429539203643799\n",
            "Test Accuracy: 0.8252000212669373\n"
          ]
        }
      ]
    },
    {
      "cell_type": "code",
      "source": [
        "# predict on a sample text without padding.\n",
        "\n",
        "sample_text = ('The movie was not good. The animation and the graphics '\n",
        "               'were terrible. I would not recommend this movie.')\n",
        "predictions = model.predict(np.array([sample_text]))\n",
        "print(predictions)\n",
        ""
      ],
      "metadata": {
        "colab": {
          "base_uri": "https://localhost:8080/"
        },
        "id": "AEYQTWckMdEP",
        "outputId": "6b6c1fa3-db21-45f3-ec0a-79006c1dc553"
      },
      "execution_count": 24,
      "outputs": [
        {
          "output_type": "stream",
          "name": "stdout",
          "text": [
            "1/1 [==============================] - 5s 5s/step\n",
            "[[-1.140108]]\n"
          ]
        }
      ]
    },
    {
      "cell_type": "code",
      "source": [
        "plt.figure(figsize=(16, 6))\n",
        "plt.subplot(1, 2, 1)\n",
        "plot_graphs(history, 'accuracy')\n",
        "plt.subplot(1, 2, 2)\n",
        "plot_graphs(history, 'loss')\n",
        ""
      ],
      "metadata": {
        "colab": {
          "base_uri": "https://localhost:8080/",
          "height": 401
        },
        "id": "zPCbivxhMfLF",
        "outputId": "827392da-4f2d-4b2d-8f38-40f50a0ac824"
      },
      "execution_count": 25,
      "outputs": [
        {
          "output_type": "display_data",
          "data": {
            "text/plain": [
              "<Figure size 1600x600 with 2 Axes>"
            ],
            "image/png": "[encoded data removed]"
          },
          "metadata": {}
        }
      ]
    },
    {
      "cell_type": "markdown",
      "source": [
        "# Kode di atas hanya bisa dijalankan dengan TPU, kode berikut bisa dijalankan dengan CPU biasa"
      ],
      "metadata": {
        "id": "2CiN9y0BMgzt"
      }
    },
    {
      "cell_type": "code",
      "source": [
        "# Train the model\n",
        "history = model.fit(train_dataset, epochs=1, validation_data=test_dataset, validation_steps=30)"
      ],
      "metadata": {
        "colab": {
          "base_uri": "https://localhost:8080/"
        },
        "id": "RQ1_qp7-MiLJ",
        "outputId": "ce5a7caa-0557-4b63-dde6-0dcf8ae65bc7"
      },
      "execution_count": 26,
      "outputs": [
        {
          "output_type": "stream",
          "name": "stdout",
          "text": [
            "391/391 [==============================] - 436s 1s/step - loss: 0.3138 - accuracy: 0.8674 - val_loss: 0.3177 - val_accuracy: 0.8625\n"
          ]
        }
      ]
    },
    {
      "cell_type": "code",
      "source": [
        "# Function to make predictions\n",
        "def predict_sentiment(text):\n",
        "    # Convert the text to a tensor\n",
        "    text_tensor = tf.constant([text])\n",
        "\n",
        "    # Make prediction\n",
        "    prediction = model.predict(text_tensor)\n",
        "\n",
        "    # Process prediction\n",
        "    sentiment = \"Positive\" if prediction[0][0] > 0 else \"Negative\"\n",
        "    confidence = tf.nn.sigmoid(prediction[0][0]).numpy()\n",
        "\n",
        "    return sentiment, confidence"
      ],
      "metadata": {
        "id": "vnJmDxnBMkzf"
      },
      "execution_count": 27,
      "outputs": []
    },
    {
      "cell_type": "code",
      "source": [
        "# Test the prediction\n",
        "sample_text = ('The movie was cool. The animation and the graphics '\n",
        "               'were out of this world. I would recommend this movie.')\n",
        "\n",
        "sentiment, confidence = predict_sentiment(sample_text)\n",
        "print(f\"Text: {sample_text}\")\n",
        "print(f\"Sentiment: {sentiment}\")\n",
        "print(f\"Confidence: {confidence:.2f}\")\n",
        ""
      ],
      "metadata": {
        "colab": {
          "base_uri": "https://localhost:8080/"
        },
        "id": "nqudh7rPMmWR",
        "outputId": "eff5964d-3c03-4b83-b56b-19fed6fdf61d"
      },
      "execution_count": 28,
      "outputs": [
        {
          "output_type": "stream",
          "name": "stdout",
          "text": [
            "1/1 [==============================] - 0s 28ms/step\n",
            "Text: The movie was cool. The animation and the graphics were out of this world. I would recommend this movie.\n",
            "Sentiment: Positive\n",
            "Confidence: 0.62\n"
          ]
        }
      ]
    },
    {
      "cell_type": "markdown",
      "source": [
        "# Praktikum 2 - Generator Teks dengan RNN"
      ],
      "metadata": {
        "id": "b6vjwtCUMprE"
      }
    },
    {
      "cell_type": "markdown",
      "source": [
        "Praktikum ini mendemonstrasikan cara melakukan genearsi text menggunakan RNN. Dataset yang digunkan adalah dataset Shakespeare's writing from Andrej Karpathy's The Unreasonable Effectiveness of Recurrent Neural Networks. Jika diberikan urutan karakter dari data ini (\"Shakespear\"), latih model untuk memprediksi karakter berikutnya dalam urutan (\"e\"). Urutan teks yang lebih panjang dapat dihasilkan dengan memanggil model berulang kali.\n",
        "\n",
        "Note: Enable GPU acceleration to execute this notebook faster. In Colab: Runtime > Change runtime type > Hardware accelerator > GPU.\n",
        "\n",
        "Tutorial ini menggunakan tf.keras dan eager execution. Berikut adalah contoh output ketika model dalam tutorial ini dilatih selama 30 epoch, dan dimulai dengan prompt \"Q\":\n",
        "\n",
        "\n",
        "      QUEENE:\n",
        "      I had thought thou hadst a Roman; for the oracle,\n",
        "      Thus by All bids the man against the word,\n",
        "      Which are so weak of care, by old care done;\n",
        "      Your children were in your holy love,\n",
        "      And the precipitation through the bleeding throne.\n",
        "\n",
        "      BISHOP OF ELY:\n",
        "      Marry, and will, my lord, to weep in such a one were prettiest;\n",
        "      Yet now I was adopted heir\n",
        "      Of the world's lamentable day,\n",
        "      To watch the next way with his father with his face?\n",
        "\n",
        "      ESCALUS:\n",
        "      The cause why then we are all resolved more sons.\n",
        "\n",
        "      VOLUMNIA:\n",
        "      O, no, no, no, no, no, no, no, no, no, no, no, no, no, no, no, no, no, no, no, no, it is no sin it should be dead,\n",
        "      And love and pale as any will to that word.\n",
        "\n",
        "      QUEEN ELIZABETH:\n",
        "      But how long have I heard the soul for this world,\n",
        "      And show his hands of life be proved to stand.\n",
        "\n",
        "      PETRUCHIO:\n",
        "      I say he look'd on, if I must be content\n",
        "      To stay him from the fatal of our country's bliss.\n",
        "      His lordship pluck'd from this sentence then for prey,\n",
        "      And then let us twain, being the moon,\n",
        "      were she such a case as fills m\n",
        "\n",
        "Meskipun beberapa kalimat memiliki tata bahasa, sebagian besar tidak masuk akal. Model belum mempelajari arti kata-kata, namun anggap saja:\n",
        "\n",
        "-Modelnya berbasis karakter. Saat pelatihan dimulai, model tidak mengetahui cara mengeja kata dalam bahasa Inggris, atau bahkan kata-kata tersebut merupakan satuan teks.\n",
        "\n",
        "-Struktur keluarannya menyerupai sandiwara—blok teks umumnya dimulai dengan nama pembicara, dengan huruf kapital semua mirip dengan kumpulan data.\n",
        "\n",
        "-Seperti yang ditunjukkan di bawah, model dilatih pada kumpulan teks kecil (masing-masing 100 karakter), dan masih mampu menghasilkan rangkaian teks yang lebih panjang dengan struktur yang koheren."
      ],
      "metadata": {
        "id": "jcAbveugMs36"
      }
    },
    {
      "cell_type": "markdown",
      "source": [
        "# Setup"
      ],
      "metadata": {
        "id": "QAi9_mXcM44Q"
      }
    },
    {
      "cell_type": "markdown",
      "source": [
        "Import TensorFlow"
      ],
      "metadata": {
        "id": "PTCUY86tM7t9"
      }
    },
    {
      "cell_type": "code",
      "source": [
        "import tensorflow as tf\n",
        "import numpy as np\n",
        "import os\n",
        "import time"
      ],
      "metadata": {
        "id": "kTMjemR6M9AF"
      },
      "execution_count": 29,
      "outputs": []
    },
    {
      "cell_type": "markdown",
      "source": [
        "Download Dataset Shakespeare Sesuaikan dengan lokasi data yang Anda punya."
      ],
      "metadata": {
        "id": "ovtM-LyJM_vl"
      }
    },
    {
      "cell_type": "code",
      "source": [
        "path_to_file = tf.keras.utils.get_file('shakespeare.txt', 'https://storage.googleapis.com/download.tensorflow.org/data/shakespeare.txt')\n",
        ""
      ],
      "metadata": {
        "colab": {
          "base_uri": "https://localhost:8080/"
        },
        "id": "_jxfC4J0NBpz",
        "outputId": "216d3aa7-eaf3-467b-f2e1-637218bbdc84"
      },
      "execution_count": 30,
      "outputs": [
        {
          "output_type": "stream",
          "name": "stdout",
          "text": [
            "Downloading data from https://storage.googleapis.com/download.tensorflow.org/data/shakespeare.txt\n",
            "1115394/1115394 [==============================] - 0s 0us/step\n"
          ]
        }
      ]
    },
    {
      "cell_type": "markdown",
      "source": [
        "Load Data"
      ],
      "metadata": {
        "id": "hx3AlkxQND3g"
      }
    },
    {
      "cell_type": "code",
      "source": [
        "# Read, then decode for py2 compat.\n",
        "text = open(path_to_file, 'rb').read().decode(encoding='utf-8')\n",
        "# length of text is the number of characters in it\n",
        "print(f'Length of text: {len(text)} characters')"
      ],
      "metadata": {
        "colab": {
          "base_uri": "https://localhost:8080/"
        },
        "id": "FWFnCsRANFR5",
        "outputId": "636365eb-24d2-4e52-ebec-024ee20af9fa"
      },
      "execution_count": 31,
      "outputs": [
        {
          "output_type": "stream",
          "name": "stdout",
          "text": [
            "Length of text: 1115394 characters\n"
          ]
        }
      ]
    },
    {
      "cell_type": "markdown",
      "source": [
        "Length of text: 1115394 characters"
      ],
      "metadata": {
        "id": "Y5aMNYPLNNY9"
      }
    },
    {
      "cell_type": "code",
      "source": [
        "# Take a look at the first 250 characters in text\n",
        "print(text[:250])"
      ],
      "metadata": {
        "colab": {
          "base_uri": "https://localhost:8080/"
        },
        "id": "0Dw6DOe5NO8F",
        "outputId": "0fa877ab-ee63-4189-92b4-bf745744bcf2"
      },
      "execution_count": 32,
      "outputs": [
        {
          "output_type": "stream",
          "name": "stdout",
          "text": [
            "First Citizen:\n",
            "Before we proceed any further, hear me speak.\n",
            "\n",
            "All:\n",
            "Speak, speak.\n",
            "\n",
            "First Citizen:\n",
            "You are all resolved rather to die than to famish?\n",
            "\n",
            "All:\n",
            "Resolved. resolved.\n",
            "\n",
            "First Citizen:\n",
            "First, you know Caius Marcius is chief enemy to the people.\n",
            "\n"
          ]
        }
      ]
    },
    {
      "cell_type": "markdown",
      "source": [
        "First Citizen:\n",
        "Before we proceed any further, hear me speak.\n",
        "\n",
        "All:\n",
        "Speak, speak.\n",
        "\n",
        "First Citizen:\n",
        "You are all resolved rather to die than to famish?\n",
        "\n",
        "All:\n",
        "Resolved. resolved.\n",
        "\n",
        "First Citizen:\n",
        "First, you know Caius Marcius is chief enemy to the people."
      ],
      "metadata": {
        "id": "aYiftaTZNRTv"
      }
    },
    {
      "cell_type": "code",
      "source": [
        "# The unique characters in the file\n",
        "vocab = sorted(set(text))\n",
        "print(f'{len(vocab)} unique characters')"
      ],
      "metadata": {
        "colab": {
          "base_uri": "https://localhost:8080/"
        },
        "id": "D3Nt2916NUeF",
        "outputId": "c70786b6-d812-4ce2-a0f3-ee158a10f32f"
      },
      "execution_count": 33,
      "outputs": [
        {
          "output_type": "stream",
          "name": "stdout",
          "text": [
            "65 unique characters\n"
          ]
        }
      ]
    },
    {
      "cell_type": "markdown",
      "source": [
        "# Olah Teks"
      ],
      "metadata": {
        "id": "BbplcjlONWSL"
      }
    },
    {
      "cell_type": "markdown",
      "source": [
        "Vectorize Teks Sebelum training, Anda perlu mengonversi string menjadi representasi numerik. tf.keras.layers.StringLookup dapat mengubah setiap karakter menjadi ID numerik. Caranya adalah teks akan dipecah menjadi token terlebih dahulu"
      ],
      "metadata": {
        "id": "GHWFl4J3Nayg"
      }
    },
    {
      "cell_type": "code",
      "source": [
        "example_texts = ['abcdefg', 'xyz']\n",
        "chars = tf.strings.unicode_split(example_texts, input_encoding='UTF-8')\n",
        "chars"
      ],
      "metadata": {
        "colab": {
          "base_uri": "https://localhost:8080/"
        },
        "id": "_wjszedkNcts",
        "outputId": "18918a9b-71b6-42ee-992d-84df0e334337"
      },
      "execution_count": 34,
      "outputs": [
        {
          "output_type": "execute_result",
          "data": {
            "text/plain": [
              "<tf.RaggedTensor [[b'a', b'b', b'c', b'd', b'e', b'f', b'g'], [b'x', b'y', b'z']]>"
            ]
          },
          "metadata": {},
          "execution_count": 34
        }
      ]
    },
    {
      "cell_type": "markdown",
      "source": [
        "sekarang buat tf.keras.layers.StringLookup layer:"
      ],
      "metadata": {
        "id": "XhZFL8mSNfCi"
      }
    },
    {
      "cell_type": "code",
      "source": [
        "ids_from_chars = tf.keras.layers.StringLookup(\n",
        "vocabulary=list(vocab), mask_token=None)"
      ],
      "metadata": {
        "id": "LyrbTeaHNhUZ"
      },
      "execution_count": 35,
      "outputs": []
    },
    {
      "cell_type": "markdown",
      "source": [
        "perintah diatas mengconvert token menjadi id"
      ],
      "metadata": {
        "id": "PeQI-EvANjGB"
      }
    },
    {
      "cell_type": "code",
      "source": [
        "ids = ids_from_chars(chars)\n",
        "ids\n",
        ""
      ],
      "metadata": {
        "colab": {
          "base_uri": "https://localhost:8080/"
        },
        "id": "M4XGGNg_NkfW",
        "outputId": "8dac8850-6eb0-4d3c-d254-d89080c442c2"
      },
      "execution_count": 36,
      "outputs": [
        {
          "output_type": "execute_result",
          "data": {
            "text/plain": [
              "<tf.RaggedTensor [[40, 41, 42, 43, 44, 45, 46], [63, 64, 65]]>"
            ]
          },
          "metadata": {},
          "execution_count": 36
        }
      ]
    },
    {
      "cell_type": "markdown",
      "source": [
        "Karena tujuan tutorial ini adalah untuk menghasilkan teks, penting juga untuk membalikkan representasi ini. Untuk ini Anda dapat menggunakan kode tf.keras.layers.StringLookup(..., invert=True).\n",
        "\n",
        "Catatan: pada kode ini, daripada meneruskan kosakata asli yang dihasilkan dengan diurutkan(set(teks)) gunakan metode get_vocabulary() dari tf.keras.layers.StringLookup sehingga token [UNK] disetel dengan cara yang sama."
      ],
      "metadata": {
        "id": "7MSffO9uNnTO"
      }
    },
    {
      "cell_type": "code",
      "source": [
        "chars_from_ids = tf.keras.layers.StringLookup(\n",
        "    vocabulary=ids_from_chars.get_vocabulary(), invert=True, mask_token=None)"
      ],
      "metadata": {
        "id": "jisc3W2QNm9m"
      },
      "execution_count": 37,
      "outputs": []
    },
    {
      "cell_type": "markdown",
      "source": [
        "\n",
        "Lapisan ini mengconvert kembali karakter dari vektor ID, dan mengembalikannya sebagai karakter tf.RaggedTensor:"
      ],
      "metadata": {
        "id": "LFpn1b8BNrqj"
      }
    },
    {
      "cell_type": "code",
      "source": [
        "chars = chars_from_ids(ids)\n",
        "chars"
      ],
      "metadata": {
        "colab": {
          "base_uri": "https://localhost:8080/"
        },
        "id": "9bpE2e2rNtYw",
        "outputId": "3c0d7207-461e-49b4-ba94-890c540155a5"
      },
      "execution_count": 38,
      "outputs": [
        {
          "output_type": "execute_result",
          "data": {
            "text/plain": [
              "<tf.RaggedTensor [[b'a', b'b', b'c', b'd', b'e', b'f', b'g'], [b'x', b'y', b'z']]>"
            ]
          },
          "metadata": {},
          "execution_count": 38
        }
      ]
    },
    {
      "cell_type": "markdown",
      "source": [
        "Anda dapat menggunakan tf.strings.reduce_join untuk menggabungkan kembali karakter menjadi string."
      ],
      "metadata": {
        "id": "HGbHxAUDNvw5"
      }
    },
    {
      "cell_type": "code",
      "source": [
        "tf.strings.reduce_join(chars, axis=-1).numpy()"
      ],
      "metadata": {
        "colab": {
          "base_uri": "https://localhost:8080/"
        },
        "id": "ui3OmpV8NyFu",
        "outputId": "e1a5e6e0-cc3f-4d08-8b88-beebcab77f11"
      },
      "execution_count": 39,
      "outputs": [
        {
          "output_type": "execute_result",
          "data": {
            "text/plain": [
              "array([b'abcdefg', b'xyz'], dtype=object)"
            ]
          },
          "metadata": {},
          "execution_count": 39
        }
      ]
    },
    {
      "cell_type": "code",
      "source": [
        "def text_from_ids(ids):\n",
        "    return tf.strings.reduce_join(chars_from_ids(ids), axis=-1)"
      ],
      "metadata": {
        "id": "B-2WmKa6N1TK"
      },
      "execution_count": 40,
      "outputs": []
    },
    {
      "cell_type": "markdown",
      "source": [
        "Prediksi\n",
        "\n",
        "Diberikan sebuah karakter, atau serangkaian karakter, karakter apa yang paling mungkin berikutnya? Ini adalah tugas yang harus Anda latih agar model dapat melakukannya. Masukan ke model akan berupa urutan karakter, dan Anda melatih model untuk memprediksi keluaran berupa karakter berikut pada setiap langkah waktu. Karena RNN mempertahankan keadaan internal yang bergantung pada elemen yang terlihat sebelumnya, mengingat semua karakter dihitung hingga saat ini, karakter apa selanjutnya?\n",
        "\n",
        "Membuat Trianing Set dan Target\n",
        "\n",
        "Selanjutnya bagilah teks menjadi contoh sequence. Setiap masukan sequence akan berisi karakter seq_length dari teks. Untuk setiap masukan sequence, target prediksi berisi teks dengan panjang yang sama, hanya digeser satu karakter ke kanan. Jadi, bagi teks menjadi beberapa bagian seq_length+1. Misalnya, seq_length adalah 4 dan teks kita adalah \"Hello\". Urutan masukannya adalah \"Hell\", dan urutan targetnya adalah \"ello\". Untuk melakukan ini, pertama-tama gunakan fungsi tf.data.Dataset.from_tensor_slices untuk mengonversi vektor teks menjadi aliran indeks karakter."
      ],
      "metadata": {
        "id": "ZVOfw5zQN3k7"
      }
    },
    {
      "cell_type": "code",
      "source": [
        "all_ids = ids_from_chars(tf.strings.unicode_split(text, 'UTF-8'))\n",
        "all_ids\n",
        ""
      ],
      "metadata": {
        "colab": {
          "base_uri": "https://localhost:8080/"
        },
        "id": "WtySeUDHN5nd",
        "outputId": "5a5d8644-b125-4c10-a3f5-d3a451ca0005"
      },
      "execution_count": 41,
      "outputs": [
        {
          "output_type": "execute_result",
          "data": {
            "text/plain": [
              "<tf.Tensor: shape=(1115394,), dtype=int64, numpy=array([19, 48, 57, ..., 46,  9,  1])>"
            ]
          },
          "metadata": {},
          "execution_count": 41
        }
      ]
    },
    {
      "cell_type": "code",
      "source": [
        "ids_dataset = tf.data.Dataset.from_tensor_slices(all_ids)"
      ],
      "metadata": {
        "id": "S1bj8j5SN8S3"
      },
      "execution_count": 42,
      "outputs": []
    },
    {
      "cell_type": "code",
      "source": [
        "ids_dataset = tf.data.Dataset.from_tensor_slices(all_ids)\n",
        "\n",
        "\n",
        "for ids in ids_dataset.take(10):\n",
        "    print(chars_from_ids(ids).numpy().decode('utf-8'))"
      ],
      "metadata": {
        "colab": {
          "base_uri": "https://localhost:8080/"
        },
        "id": "CU-7j5sXN90I",
        "outputId": "f2360ddc-0361-434f-820d-44bd47300c26"
      },
      "execution_count": 43,
      "outputs": [
        {
          "output_type": "stream",
          "name": "stdout",
          "text": [
            "F\n",
            "i\n",
            "r\n",
            "s\n",
            "t\n",
            " \n",
            "C\n",
            "i\n",
            "t\n",
            "i\n"
          ]
        }
      ]
    },
    {
      "cell_type": "code",
      "source": [
        "seq_length = 100"
      ],
      "metadata": {
        "id": "kFhZEu9vN_0S"
      },
      "execution_count": 44,
      "outputs": []
    },
    {
      "cell_type": "markdown",
      "source": [
        "Metode batch memungkinkan Anda dengan mudah mengonversi karakter individual ini menjadi urutan ukuran yang diinginkan."
      ],
      "metadata": {
        "id": "UtChDPqMOB34"
      }
    },
    {
      "cell_type": "code",
      "source": [
        "sequences = ids_dataset.batch(seq_length+1, drop_remainder=True)\n",
        "\n",
        "for seq in sequences.take(1):\n",
        "  print(chars_from_ids(seq))"
      ],
      "metadata": {
        "colab": {
          "base_uri": "https://localhost:8080/"
        },
        "id": "zU6yRUZpODb6",
        "outputId": "e40d9002-44fc-438d-a36b-3e99bb00d9b6"
      },
      "execution_count": 45,
      "outputs": [
        {
          "output_type": "stream",
          "name": "stdout",
          "text": [
            "tf.Tensor(\n",
            "[b'F' b'i' b'r' b's' b't' b' ' b'C' b'i' b't' b'i' b'z' b'e' b'n' b':'\n",
            " b'\\n' b'B' b'e' b'f' b'o' b'r' b'e' b' ' b'w' b'e' b' ' b'p' b'r' b'o'\n",
            " b'c' b'e' b'e' b'd' b' ' b'a' b'n' b'y' b' ' b'f' b'u' b'r' b't' b'h'\n",
            " b'e' b'r' b',' b' ' b'h' b'e' b'a' b'r' b' ' b'm' b'e' b' ' b's' b'p'\n",
            " b'e' b'a' b'k' b'.' b'\\n' b'\\n' b'A' b'l' b'l' b':' b'\\n' b'S' b'p' b'e'\n",
            " b'a' b'k' b',' b' ' b's' b'p' b'e' b'a' b'k' b'.' b'\\n' b'\\n' b'F' b'i'\n",
            " b'r' b's' b't' b' ' b'C' b'i' b't' b'i' b'z' b'e' b'n' b':' b'\\n' b'Y'\n",
            " b'o' b'u' b' '], shape=(101,), dtype=string)\n"
          ]
        }
      ]
    },
    {
      "cell_type": "markdown",
      "source": [
        "akan lebih mudah untuk melihat apa yang dilakukan jika Anda menggabungkan token kembali menjadi string:"
      ],
      "metadata": {
        "id": "us4PDTc5OFRl"
      }
    },
    {
      "cell_type": "code",
      "source": [
        "for seq in sequences.take(5):\n",
        "    print(text_from_ids(seq).numpy())"
      ],
      "metadata": {
        "colab": {
          "base_uri": "https://localhost:8080/"
        },
        "id": "ozO69yVrOGvx",
        "outputId": "9ced4860-e413-4795-8169-823d637859a8"
      },
      "execution_count": 46,
      "outputs": [
        {
          "output_type": "stream",
          "name": "stdout",
          "text": [
            "b'First Citizen:\\nBefore we proceed any further, hear me speak.\\n\\nAll:\\nSpeak, speak.\\n\\nFirst Citizen:\\nYou '\n",
            "b'are all resolved rather to die than to famish?\\n\\nAll:\\nResolved. resolved.\\n\\nFirst Citizen:\\nFirst, you k'\n",
            "b\"now Caius Marcius is chief enemy to the people.\\n\\nAll:\\nWe know't, we know't.\\n\\nFirst Citizen:\\nLet us ki\"\n",
            "b\"ll him, and we'll have corn at our own price.\\nIs't a verdict?\\n\\nAll:\\nNo more talking on't; let it be d\"\n",
            "b'one: away, away!\\n\\nSecond Citizen:\\nOne word, good citizens.\\n\\nFirst Citizen:\\nWe are accounted poor citi'\n"
          ]
        }
      ]
    },
    {
      "cell_type": "markdown",
      "source": [
        "Untuk pelatihan, Anda memerlukan kumpulan data pasangan (input, label). Dimana input dan label merupakan urutan. Pada setiap langkah waktu, inputnya adalah karakter saat ini dan labelnya adalah karakter berikutnya. Berikut adalah fungsi yang mengambil urutan sebagai masukan, menduplikasi, dan menggesernya untuk menyelaraskan masukan dan label untuk setiap langkah waktu:"
      ],
      "metadata": {
        "id": "RY6i-WuEOJOo"
      }
    },
    {
      "cell_type": "code",
      "source": [
        "def split_input_target(sequence):\n",
        "    input_text = sequence[:-1]\n",
        "    target_text = sequence[1:]\n",
        "    return input_text, target_text"
      ],
      "metadata": {
        "id": "TXVdPH4JOLHh"
      },
      "execution_count": 47,
      "outputs": []
    },
    {
      "cell_type": "code",
      "source": [
        "split_input_target(list(\"Tensorflow\"))"
      ],
      "metadata": {
        "colab": {
          "base_uri": "https://localhost:8080/"
        },
        "id": "EJ3UJDCZONxI",
        "outputId": "ed9566d8-346e-46cb-85e3-24953bbc4741"
      },
      "execution_count": 48,
      "outputs": [
        {
          "output_type": "execute_result",
          "data": {
            "text/plain": [
              "(['T', 'e', 'n', 's', 'o', 'r', 'f', 'l', 'o'],\n",
              " ['e', 'n', 's', 'o', 'r', 'f', 'l', 'o', 'w'])"
            ]
          },
          "metadata": {},
          "execution_count": 48
        }
      ]
    },
    {
      "cell_type": "code",
      "source": [
        "dataset = sequences.map(split_input_target)"
      ],
      "metadata": {
        "id": "raQge0mnOP4F"
      },
      "execution_count": 49,
      "outputs": []
    },
    {
      "cell_type": "code",
      "source": [
        "for input_example, target_example in dataset.take(1):\n",
        "    print(\"Input :\", text_from_ids(input_example).numpy())\n",
        "    print(\"Target:\", text_from_ids(target_example).numpy())"
      ],
      "metadata": {
        "colab": {
          "base_uri": "https://localhost:8080/"
        },
        "id": "U0JVKrvKOTaM",
        "outputId": "28cd99a6-4ff8-41db-fcf0-ce507d892336"
      },
      "execution_count": 50,
      "outputs": [
        {
          "output_type": "stream",
          "name": "stdout",
          "text": [
            "Input : b'First Citizen:\\nBefore we proceed any further, hear me speak.\\n\\nAll:\\nSpeak, speak.\\n\\nFirst Citizen:\\nYou'\n",
            "Target: b'irst Citizen:\\nBefore we proceed any further, hear me speak.\\n\\nAll:\\nSpeak, speak.\\n\\nFirst Citizen:\\nYou '\n"
          ]
        }
      ]
    },
    {
      "cell_type": "markdown",
      "source": [
        "Membuat Batch Training Anda menggunakan tf.data untuk membagi teks menjadi sequence yang dapat diatur. Namun sebelum memasukkan data ini ke dalam model, Anda perlu mengacak data dan mengemasnya ke dalam batch."
      ],
      "metadata": {
        "id": "0rYpXXd_OVKR"
      }
    },
    {
      "cell_type": "code",
      "source": [
        "# Batch size\n",
        "BATCH_SIZE = 64\n",
        "\n",
        "# Buffer size to shuffle the dataset\n",
        "# (TF data is designed to work with possibly infinite sequences,\n",
        "# so it doesn't attempt to shuffle the entire sequence in memory. Instead,\n",
        "# it maintains a buffer in which it shuffles elements).\n",
        "BUFFER_SIZE = 10000\n",
        "\n",
        "dataset = (\n",
        "    dataset\n",
        "    .shuffle(BUFFER_SIZE)\n",
        "    .batch(BATCH_SIZE, drop_remainder=True)\n",
        "    .prefetch(tf.data.experimental.AUTOTUNE))\n",
        "\n",
        "dataset\n",
        ""
      ],
      "metadata": {
        "colab": {
          "base_uri": "https://localhost:8080/"
        },
        "id": "_ZOnnZcyOWpC",
        "outputId": "f93a53cc-21ca-4ee6-db63-0816b71fd304"
      },
      "execution_count": 51,
      "outputs": [
        {
          "output_type": "execute_result",
          "data": {
            "text/plain": [
              "<_PrefetchDataset element_spec=(TensorSpec(shape=(64, 100), dtype=tf.int64, name=None), TensorSpec(shape=(64, 100), dtype=tf.int64, name=None))>"
            ]
          },
          "metadata": {},
          "execution_count": 51
        }
      ]
    },
    {
      "cell_type": "markdown",
      "source": [
        "# Buat Model"
      ],
      "metadata": {
        "id": "FHHa6eIuOYzH"
      }
    },
    {
      "cell_type": "markdown",
      "source": [
        "Bagian ini mendefinisikan model sebagai subkelas keras.Model (untuk lebih detilnya, lihat Making new Layers and Models via subclassing).\n",
        "\n",
        "Model yang kita bangun memiliki 3 lapisan neural network :\n",
        "\n",
        "tf.keras.layers.Embedding: Lapisan masukan. Tabel pencarian yang dapat dilatih yang akan memetakan setiap karakter-ID ke vektor dengan dimensi embedding_dim;\n",
        "\n",
        "tf.keras.layers.GRU: lapisan RNN dengan ukuran unit=rnn_units (Anda juga dapat menggunakan lapisan LSTM di sini.)\n",
        "\n",
        "tf.keras.layers.Dense: Lapisan keluaran, dengan keluaran vocab_size. Ini menghasilkan satu logit untuk setiap karakter dalam kosakata. Ini adalah log kemungkinan setiap karakter menurut model."
      ],
      "metadata": {
        "id": "yIaOkFxeOaBf"
      }
    },
    {
      "cell_type": "code",
      "source": [
        "# Length of the vocabulary in StringLookup Layer\n",
        "vocab_size = len(ids_from_chars.get_vocabulary())\n",
        "\n",
        "# The embedding dimension\n",
        "embedding_dim = 256\n",
        "\n",
        "# Number of RNN units\n",
        "rnn_units = 1024"
      ],
      "metadata": {
        "id": "m234VtkLOc7B"
      },
      "execution_count": 52,
      "outputs": []
    },
    {
      "cell_type": "code",
      "source": [
        "class MyModel(tf.keras.Model):\n",
        "  def __init__(self, vocab_size, embedding_dim, rnn_units):\n",
        "    super().__init__(self)\n",
        "    self.embedding = tf.keras.layers.Embedding(vocab_size, embedding_dim)\n",
        "    self.gru = tf.keras.layers.GRU(rnn_units,\n",
        "                                   return_sequences=True,\n",
        "                                   return_state=True)\n",
        "    self.dense = tf.keras.layers.Dense(vocab_size)\n",
        "\n",
        "  def call(self, inputs, states=None, return_state=False, training=False):\n",
        "    x = inputs\n",
        "    x = self.embedding(x, training=training)\n",
        "    if states is None:\n",
        "      states = self.gru.get_initial_state(x)\n",
        "    x, states = self.gru(x, initial_state=states, training=training)\n",
        "    x = self.dense(x, training=training)\n",
        "\n",
        "    if return_state:\n",
        "      return x, states\n",
        "    else:\n",
        "      return x"
      ],
      "metadata": {
        "id": "RnU5uRUyOen5"
      },
      "execution_count": 53,
      "outputs": []
    },
    {
      "cell_type": "code",
      "source": [
        "model = MyModel(\n",
        "    vocab_size=vocab_size,\n",
        "    embedding_dim=embedding_dim,\n",
        "    rnn_units=rnn_units)\n",
        ""
      ],
      "metadata": {
        "id": "_pB8UrX5Ogkm"
      },
      "execution_count": 54,
      "outputs": []
    },
    {
      "cell_type": "markdown",
      "source": [
        "Untuk setiap karakter, model mencari penyematan, menjalankan GRU satu langkah waktu dengan penyematan sebagai masukan, dan menerapkan dense layer untuk menghasilkan log yang memprediksi kemungkinan log karakter berikutnya:"
      ],
      "metadata": {
        "id": "CPV_MLeVOjDt"
      }
    },
    {
      "cell_type": "markdown",
      "source": [
        "![image.png](data:image/png;base64,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)"
      ],
      "metadata": {
        "id": "x-Nqu2ZSOka1"
      }
    },
    {
      "cell_type": "markdown",
      "source": [
        "Note: Untuk pelatihan Anda bisa menggunakan model keras.Sequential di sini. Untuk menghasilkan teks nanti, Anda harus mengelola status internal RNN. Akan lebih mudah untuk memasukkan opsi input dan output status di awal, daripada mengatur ulang arsitektur model nanti. untuk detailnya bisa dilihat Keras RNN guide."
      ],
      "metadata": {
        "id": "25naUivgOper"
      }
    },
    {
      "cell_type": "markdown",
      "source": [
        "# Uji Model"
      ],
      "metadata": {
        "id": "m8ZS1oacOuCd"
      }
    },
    {
      "cell_type": "markdown",
      "source": [
        "Coba jalankan model dan cek apakah sidah sesuai dengan output\n",
        "\n",
        "pertama, cek bentuk dari output"
      ],
      "metadata": {
        "id": "miQtfDooOwqF"
      }
    },
    {
      "cell_type": "code",
      "source": [
        "for input_example_batch, target_example_batch in dataset.take(1):\n",
        "    example_batch_predictions = model(input_example_batch)\n",
        "    print(example_batch_predictions.shape, \"# (batch_size, sequence_length, vocab_size)\")"
      ],
      "metadata": {
        "colab": {
          "base_uri": "https://localhost:8080/"
        },
        "id": "z-U2m4vWOynY",
        "outputId": "53028fb5-359b-4e92-e706-9da795abf7bf"
      },
      "execution_count": 55,
      "outputs": [
        {
          "output_type": "stream",
          "name": "stdout",
          "text": [
            "(64, 100, 66) # (batch_size, sequence_length, vocab_size)\n"
          ]
        }
      ]
    },
    {
      "cell_type": "markdown",
      "source": [
        "Dalam contoh di atas, panjang urutan masukan adalah 100 tetapi model dapat dijalankan pada masukan dengan panjang berapa pun:"
      ],
      "metadata": {
        "id": "A2gF66lRO1P5"
      }
    },
    {
      "cell_type": "code",
      "source": [
        "model.summary()"
      ],
      "metadata": {
        "colab": {
          "base_uri": "https://localhost:8080/"
        },
        "id": "5Yyvl9F-O28e",
        "outputId": "ef0ff367-b930-45a8-d8c7-b78cff7daa1e"
      },
      "execution_count": 56,
      "outputs": [
        {
          "output_type": "stream",
          "name": "stdout",
          "text": [
            "Model: \"my_model\"\n",
            "_________________________________________________________________\n",
            " Layer (type)                Output Shape              Param #   \n",
            "=================================================================\n",
            " embedding_2 (Embedding)     multiple                  16896     \n",
            "                                                                 \n",
            " gru (GRU)                   multiple                  3938304   \n",
            "                                                                 \n",
            " dense_4 (Dense)             multiple                  67650     \n",
            "                                                                 \n",
            "=================================================================\n",
            "Total params: 4022850 (15.35 MB)\n",
            "Trainable params: 4022850 (15.35 MB)\n",
            "Non-trainable params: 0 (0.00 Byte)\n",
            "_________________________________________________________________\n"
          ]
        }
      ]
    },
    {
      "cell_type": "markdown",
      "source": [
        "Untuk mendapatkan prediksi aktual dari model, Anda perlu mengambil sampel dari distribusi keluaran, untuk mendapatkan indeks karakter aktual. Distribusi ini ditentukan oleh logit pada kosakata karakter. Catatan: Penting untuk mengambil sampel dari distribusi ini karena mengambil argmax dari distribusi tersebut dapat dengan mudah membuat model terjebak dalam infinote loop. Cobalah untuk contoh pertama di batch:"
      ],
      "metadata": {
        "id": "fT27xE-UO57N"
      }
    },
    {
      "cell_type": "code",
      "source": [
        "sampled_indices = tf.random.categorical(example_batch_predictions[0], num_samples=1)\n",
        "sampled_indices = tf.squeeze(sampled_indices, axis=-1).numpy()"
      ],
      "metadata": {
        "id": "iQt6KNH1OiS6"
      },
      "execution_count": 57,
      "outputs": []
    },
    {
      "cell_type": "markdown",
      "source": [
        "Hal ini memberi kita, pada setiap langkah waktu, prediksi indeks karakter berikutnya:"
      ],
      "metadata": {
        "id": "GsN5ohGXO-mP"
      }
    },
    {
      "cell_type": "code",
      "source": [
        "sampled_indices"
      ],
      "metadata": {
        "colab": {
          "base_uri": "https://localhost:8080/"
        },
        "id": "s5SuH0IqO_5V",
        "outputId": "9586215b-751b-4eb9-903a-2d802018ff75"
      },
      "execution_count": 58,
      "outputs": [
        {
          "output_type": "execute_result",
          "data": {
            "text/plain": [
              "array([ 5, 25, 36, 43, 60, 16, 15, 47, 40, 43, 51, 57, 54, 28, 58, 43, 53,\n",
              "       25, 63, 36,  6,  7, 32, 21,  4, 13, 55, 35, 35, 16, 11, 30,  9, 42,\n",
              "       37, 38, 47, 59,  0, 26,  4, 19,  1, 33, 63,  2, 63, 62, 64, 42, 23,\n",
              "       43, 39, 59, 47, 44, 33, 28, 53, 45, 11, 50, 25, 55, 11,  7, 63, 12,\n",
              "       15, 10, 59, 42, 49, 53,  4, 48, 58, 11, 62,  2, 12, 34, 58,  3,  0,\n",
              "       40,  1,  9, 54, 45,  3, 31, 15,  3, 44, 11,  7, 65,  8, 31])"
            ]
          },
          "metadata": {},
          "execution_count": 58
        }
      ]
    },
    {
      "cell_type": "markdown",
      "source": [
        "Dekode kode berikut untuk melihat teks yang diprediksi oleh model tidak terlatih ini:"
      ],
      "metadata": {
        "id": "SQZtUo_LPB7M"
      }
    },
    {
      "cell_type": "code",
      "source": [
        "print(\"Input:\\n\", text_from_ids(input_example_batch[0]).numpy())\n",
        "print()\n",
        "print(\"Next Char Predictions:\\n\", text_from_ids(sampled_indices).numpy())"
      ],
      "metadata": {
        "colab": {
          "base_uri": "https://localhost:8080/"
        },
        "id": "9bYne0gYPDmE",
        "outputId": "15d778a6-77d1-448c-c16e-9912423de37c"
      },
      "execution_count": 59,
      "outputs": [
        {
          "output_type": "stream",
          "name": "stdout",
          "text": [
            "Input:\n",
            " b\"e polled.\\n\\nSecond Servingman:\\nAnd he's as like to do't as any man I can imagine.\\n\\nThird Servingman:\\n\"\n",
            "\n",
            "Next Char Predictions:\n",
            " b\"&LWduCBhadlroOsdnLxW',SH$?pVVC:Q.cXYht[UNK]M$F\\nTx xwycJdZtheTOnf:kLp:,x;B3tcjn$is:w ;Us![UNK]a\\n.of!RB!e:,z-R\"\n"
          ]
        }
      ]
    },
    {
      "cell_type": "markdown",
      "source": [
        "# Train Model"
      ],
      "metadata": {
        "id": "ym7sOVVfPFjC"
      }
    },
    {
      "cell_type": "markdown",
      "source": [
        "Pada titik ini permasalahan dapat dianggap sebagai permasalahan klasifikasi standar. Permasalahan dapat disimpulkan dengan : Berdasarkan status RNN sebelumnya, dan masukan langkah kali ini, prediksi kelas karakter berikutnya.\n",
        "\n",
        "Tambahan optimizer dan fungsi loss\n",
        "\n",
        "loss function tf.keras.losses.sparse_categorical_crossentropy standar berfungsi dalam kasus ini karena diterapkan di seluruh dimensi terakhir prediksi. Karena model Anda mengembalikan logits, Anda perlu mengatur flag from_logits."
      ],
      "metadata": {
        "id": "f_eRaYFQPIHe"
      }
    },
    {
      "cell_type": "code",
      "source": [
        "loss = tf.losses.SparseCategoricalCrossentropy(from_logits=True)"
      ],
      "metadata": {
        "id": "IhY-2qfaPLFf"
      },
      "execution_count": 60,
      "outputs": []
    },
    {
      "cell_type": "code",
      "source": [
        "example_batch_mean_loss = loss(target_example_batch, example_batch_predictions)\n",
        "print(\"Prediction shape: \", example_batch_predictions.shape, \" # (batch_size, sequence_length, vocab_size)\")\n",
        "print(\"Mean loss:        \", example_batch_mean_loss)"
      ],
      "metadata": {
        "colab": {
          "base_uri": "https://localhost:8080/"
        },
        "id": "8armwNIfPNPQ",
        "outputId": "567a07ca-88bd-42af-acae-936a38d0202c"
      },
      "execution_count": 61,
      "outputs": [
        {
          "output_type": "stream",
          "name": "stdout",
          "text": [
            "Prediction shape:  (64, 100, 66)  # (batch_size, sequence_length, vocab_size)\n",
            "Mean loss:         tf.Tensor(4.189606, shape=(), dtype=float32)\n"
          ]
        }
      ]
    },
    {
      "cell_type": "markdown",
      "source": [
        "Model yang baru diinisialisasi tidak boleh terlalu yakin dengan dirinya sendiri, semua log keluaran harus memiliki besaran yang sama. Untuk mengonfirmasi hal ini, Anda dapat memeriksa bahwa eksponensial dari loss rata-rata harus kira-kira sama dengan ukuran kosakata. Loss yang jauh lebih tinggi berarti model tersebut yakin akan jawaban yang salah, dan memiliki inisialisasi yang buruk:"
      ],
      "metadata": {
        "id": "6K8fJuUYPQgp"
      }
    },
    {
      "cell_type": "code",
      "source": [
        "tf.exp(example_batch_mean_loss).numpy()"
      ],
      "metadata": {
        "colab": {
          "base_uri": "https://localhost:8080/"
        },
        "id": "IWUziy6lPP3n",
        "outputId": "1ca3eb6a-9754-45c6-a67f-8929e10d8b8b"
      },
      "execution_count": 62,
      "outputs": [
        {
          "output_type": "execute_result",
          "data": {
            "text/plain": [
              "65.996796"
            ]
          },
          "metadata": {},
          "execution_count": 62
        }
      ]
    },
    {
      "cell_type": "markdown",
      "source": [
        "Konfigurasikan prosedur pelatihan menggunakan metode tf.keras.Model.compile. Gunakan tf.keras.optimizers.Adam dengan argumen default dan fungsi loss."
      ],
      "metadata": {
        "id": "jk2MyaQJPY2T"
      }
    },
    {
      "cell_type": "code",
      "source": [
        "model.compile(optimizer='adam', loss=loss)"
      ],
      "metadata": {
        "id": "XsFbDKUsPcim"
      },
      "execution_count": 63,
      "outputs": []
    },
    {
      "cell_type": "markdown",
      "source": [
        "Konfigurasi Checkpoints\n",
        "\n",
        "Gunakan tf.keras.callbacks.ModelCheckpoint untuk memastikan bahwa checkpoint disimpan selama pelatihan:"
      ],
      "metadata": {
        "id": "32yn6KABPeSL"
      }
    },
    {
      "cell_type": "code",
      "source": [
        "# Directory where the checkpoints will be saved\n",
        "checkpoint_dir = './training_checkpoints'\n",
        "# Name of the checkpoint files\n",
        "checkpoint_prefix = os.path.join(checkpoint_dir, \"ckpt_{epoch}\")\n",
        "\n",
        "checkpoint_callback = tf.keras.callbacks.ModelCheckpoint(\n",
        "    filepath=checkpoint_prefix,\n",
        "    save_weights_only=True)"
      ],
      "metadata": {
        "id": "C3XRnDa-Pf-m"
      },
      "execution_count": 64,
      "outputs": []
    },
    {
      "cell_type": "markdown",
      "source": [
        "Lakukan Proses Training\n",
        "\n",
        "Agar waktu pelatihan tidak terlalu lama, gunakan 10 epoch untuk melatih model. Di Colab, setel runtime ke GPU untuk pelatihan yang lebih cepat."
      ],
      "metadata": {
        "id": "PVF1ZaGEPjZP"
      }
    },
    {
      "cell_type": "code",
      "source": [
        "EPOCHS = 5"
      ],
      "metadata": {
        "id": "ZBfJ1ornPitS"
      },
      "execution_count": 65,
      "outputs": []
    },
    {
      "cell_type": "code",
      "source": [
        "history = model.fit(dataset, epochs=EPOCHS, callbacks=[checkpoint_callback])"
      ],
      "metadata": {
        "colab": {
          "base_uri": "https://localhost:8080/"
        },
        "id": "MM2yj1CmPoY4",
        "outputId": "0e8998c5-01dd-4cc7-fe65-577d6d81cb17"
      },
      "execution_count": 66,
      "outputs": [
        {
          "output_type": "stream",
          "name": "stdout",
          "text": [
            "Epoch 1/5\n",
            "172/172 [==============================] - 126s 716ms/step - loss: 2.7289\n",
            "Epoch 2/5\n",
            "172/172 [==============================] - 123s 711ms/step - loss: 1.9975\n",
            "Epoch 3/5\n",
            "172/172 [==============================] - 123s 707ms/step - loss: 1.7174\n",
            "Epoch 4/5\n",
            "172/172 [==============================] - 123s 710ms/step - loss: 1.5561\n",
            "Epoch 5/5\n",
            "172/172 [==============================] - 123s 708ms/step - loss: 1.4565\n"
          ]
        }
      ]
    },
    {
      "cell_type": "markdown",
      "source": [
        "# Generate Teks"
      ],
      "metadata": {
        "id": "kehU-7ftPq5K"
      }
    },
    {
      "cell_type": "markdown",
      "source": [
        "Cara termudah untuk menghasilkan teks dengan model ini adalah dengan menjalankannya dalam loop, dan menyimpan status internal model saat Anda menjalankannya."
      ],
      "metadata": {
        "id": "28Zkf7xoPtyn"
      }
    },
    {
      "cell_type": "markdown",
      "source": [
        "![image.png](data:image/png;base64,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)"
      ],
      "metadata": {
        "id": "45CcNvPrPwJx"
      }
    },
    {
      "cell_type": "markdown",
      "source": [
        "Setiap kali Anda memanggil model, Anda memasukkan beberapa teks dan state internal. Model mengembalikan prediksi untuk karakter berikutnya dan state barunya. Masukkan kembali prediksi dan state ke model untuk terus menghasilkan teks.\n",
        "\n",
        "Berikut ini membuat prediksi satu langkah:"
      ],
      "metadata": {
        "id": "MVm-YYcXPw5J"
      }
    },
    {
      "cell_type": "code",
      "source": [
        "\n",
        "class OneStep(tf.keras.Model):\n",
        "  def __init__(self, model, chars_from_ids, ids_from_chars, temperature=1.0):\n",
        "    super().__init__()\n",
        "    self.temperature = temperature\n",
        "    self.model = model\n",
        "    self.chars_from_ids = chars_from_ids\n",
        "    self.ids_from_chars = ids_from_chars\n",
        "\n",
        "    # Create a mask to prevent \"[UNK]\" from being generated.\n",
        "    skip_ids = self.ids_from_chars(['[UNK]'])[:, None]\n",
        "    sparse_mask = tf.SparseTensor(\n",
        "        # Put a -inf at each bad index.\n",
        "        values=[-float('inf')]*len(skip_ids),\n",
        "        indices=skip_ids,\n",
        "        # Match the shape to the vocabulary\n",
        "        dense_shape=[len(ids_from_chars.get_vocabulary())])\n",
        "    self.prediction_mask = tf.sparse.to_dense(sparse_mask)\n",
        "\n",
        "  @tf.function\n",
        "  def generate_one_step(self, inputs, states=None):\n",
        "    # Convert strings to token IDs.\n",
        "    input_chars = tf.strings.unicode_split(inputs, 'UTF-8')\n",
        "    input_ids = self.ids_from_chars(input_chars).to_tensor()\n",
        "\n",
        "    # Run the model.\n",
        "    # predicted_logits.shape is [batch, char, next_char_logits]\n",
        "    predicted_logits, states = self.model(inputs=input_ids, states=states,\n",
        "                                          return_state=True)\n",
        "    # Only use the last prediction.\n",
        "    predicted_logits = predicted_logits[:, -1, :]\n",
        "    predicted_logits = predicted_logits/self.temperature\n",
        "    # Apply the prediction mask: prevent \"[UNK]\" from being generated.\n",
        "    predicted_logits = predicted_logits + self.prediction_mask\n",
        "\n",
        "    # Sample the output logits to generate token IDs.\n",
        "    predicted_ids = tf.random.categorical(predicted_logits, num_samples=1)\n",
        "    predicted_ids = tf.squeeze(predicted_ids, axis=-1)\n",
        "\n",
        "    # Convert from token ids to characters\n",
        "    predicted_chars = self.chars_from_ids(predicted_ids)\n",
        "\n",
        "    # Return the characters and model state.\n",
        "    return predicted_chars, states\n",
        ""
      ],
      "metadata": {
        "id": "lVcSMEayP21U"
      },
      "execution_count": 67,
      "outputs": []
    },
    {
      "cell_type": "code",
      "source": [
        "one_step_model = OneStep(model, chars_from_ids, ids_from_chars)"
      ],
      "metadata": {
        "id": "qO17b9iqP5P-"
      },
      "execution_count": 68,
      "outputs": []
    },
    {
      "cell_type": "markdown",
      "source": [
        "Jalankan secara berulang untuk menghasilkan beberapa teks. Melihat teks yang dihasilkan, Anda akan melihat model mengetahui kapan harus menggunakan huruf besar, membuat paragraf, dan meniru kosakata menulis seperti Shakespeare. Karena sedikitnya jumlah epoch pelatihan, model belum belajar membentuk kalimat runtut."
      ],
      "metadata": {
        "id": "Dele5LW_P8Em"
      }
    },
    {
      "cell_type": "code",
      "source": [
        "start = time.time()\n",
        "states = None\n",
        "next_char = tf.constant(['ROMEO:'])\n",
        "result = [next_char]\n",
        "\n",
        "for n in range(1000):\n",
        "  next_char, states = one_step_model.generate_one_step(next_char, states=states)\n",
        "  result.append(next_char)\n",
        "\n",
        "result = tf.strings.join(result)\n",
        "end = time.time()\n",
        "print(result[0].numpy().decode('utf-8'), '\\n\\n' + '_'*80)\n",
        "print('\\nRun time:', end - start)\n",
        ""
      ],
      "metadata": {
        "colab": {
          "base_uri": "https://localhost:8080/"
        },
        "id": "35yzuVvnP-Ic",
        "outputId": "b59cabcb-56d3-4fb4-d214-92fa228c8088"
      },
      "execution_count": 69,
      "outputs": [
        {
          "output_type": "stream",
          "name": "stdout",
          "text": [
            "ROMEO:\n",
            "How he dread this hard;\n",
            "BeOK in the request I'll father as your dangerous boars?\n",
            "And what he compayst thou least to come then.\n",
            "\n",
            "CASILLO:\n",
            "Wherewich thou spoke is stincy's;\n",
            "And, and down I this noble canquitite\n",
            "But say you that such Forture him:\n",
            "Let, standerst thou last to hish sheel\n",
            "Five speed and here as trud marting.\n",
            "\n",
            "Nurse:\n",
            "Me your cormits. I would,\n",
            "no hampount fissom The pood of his conferies.\n",
            "Or with the course up York. And\n",
            "but that? in thee poils to thy spring.\n",
            "\n",
            "DUKE VINCENTIO:\n",
            "Tell it thou thing away scames resequied:\n",
            "'Bome how our commonsprimess, mines you have not his evill,\n",
            "And if I up, yet a bletter not have lotted\n",
            "out of his brother's one.\n",
            "\n",
            "RICHAST:\n",
            "Mistress, father, I would not hear in\n",
            "Partains, he is a napled, who eye,\n",
            "How warg thind that not times this am Iquowers.\n",
            "\n",
            "GLOUCESTER:\n",
            "Well, tell it, this is not speak upon fealing\n",
            "My hatf nor fulls and dirsulance o' twe strewest\n",
            "not thine your way with us off thoug maters\n",
            "Forget love just in me-to my grace.\n",
            "\n",
            "LUCIONT:\n",
            "Now'th so,  \n",
            "\n",
            "________________________________________________________________________________\n",
            "\n",
            "Run time: 2.816166400909424\n"
          ]
        }
      ]
    },
    {
      "cell_type": "markdown",
      "source": [
        "Hal termudah yang dapat Anda lakukan untuk meningkatkan hasil adalah dengan melatihnya lebih lama (coba EPOCHS = 30). Anda juga dapat bereksperimen dengan string awal yang berbeda, mencoba menambahkan lapisan RNN lain untuk meningkatkan akurasi model, atau menyesuaikan parameter suhu untuk menghasilkan prediksi yang kurang lebih acak.\n",
        "\n",
        "Jika Anda ingin model menghasilkan teks lebih cepat, hal termudah yang dapat Anda lakukan adalah membuat teks secara batch. Pada contoh di bawah, model menghasilkan 5 keluaran dalam waktu yang hampir sama dengan waktu yang dibutuhkan untuk menghasilkan 1 keluaran di atas."
      ],
      "metadata": {
        "id": "kKpY4oHUQAwk"
      }
    },
    {
      "cell_type": "code",
      "source": [
        "start = time.time()\n",
        "states = None\n",
        "next_char = tf.constant(['ROMEO:', 'ROMEO:', 'ROMEO:', 'ROMEO:', 'ROMEO:'])\n",
        "result = [next_char]\n",
        "\n",
        "for n in range(1000):\n",
        "  next_char, states = one_step_model.generate_one_step(next_char, states=states)\n",
        "  result.append(next_char)\n",
        "\n",
        "result = tf.strings.join(result)\n",
        "end = time.time()\n",
        "print(result, '\\n\\n' + '_'*80)\n",
        "print('\\nRun time:', end - start)"
      ],
      "metadata": {
        "colab": {
          "base_uri": "https://localhost:8080/"
        },
        "id": "b88b7cWaQCwF",
        "outputId": "fd4d24a0-2c9d-4433-8622-812cd0044c2d"
      },
      "execution_count": 70,
      "outputs": [
        {
          "output_type": "stream",
          "name": "stdout",
          "text": [
            "tf.Tensor(\n",
            "[b\"ROMEO:\\nNo, now? a wordsy setrity as tremse!\\nTheir power as dearful\\nNatice, that the friar, when you not I'll have\\nBy the heart, but this is a welcome Larson,\\nTo wields him a pairy manished make.\\n\\nCHAMINLA:\\nWhat! ale,--\\nAs with hatt should by grome, my allayent?\\n\\nDUKE VINCENTIO:\\nBut you are gentleme mine eart; advent the houses this sal-borarn,\\nAnd take uper a bating arms his fow\\nBut you'l the issue's rable word from his hands.\\nBut, beat heavers shall bloody sleip.\\n\\nMARCIUS:\\nI hid very satres, his never days;\\nGo hope thy evil nets. Ifake aghorious?\\n\\nELONSE:\\nHe? made upon him him\\nOn dothing by the jest reposed of live.\\n\\nARIEL:\\nMy lord!\\n\\nCloodY:\\n\\nDUCHESS OF YORK: Eary!!\\n\\nFirst Senator:\\nThat out Hemmy to since hang die:\\nThat day sighor that have need to my word,\\nBoth kingdom, it; ind hear my eeth was it\\nNot farnow domans.\\n\\nKING RICHas danger; detice, but nuther'd marry shall\\nIn this out on thear:\\nWelcome, so, I'll hund is carrer; not arms.\\nGeoker, but I come too furath;\\nSo go tender man by that \"\n",
            " b\"ROMEO:\\nWhat shall let this pade you in this?\\n\\nVOLUMNIA:\\nI say, you reason, this affort of this my hial.\\n\\nDUCHESS OV:\\nMy lifed courteno, thy dierdury plorous!\\nCome, Cayesby, for my soul it not shou.\\n\\nDUKE VINCENTIO:\\nTell me ad the cornabler Catuil;\\nAnd both more thy\\nstorus, to rained have shall in it not ade in breath,\\nBut madquirst,--jud to my pures, denievy throw,\\nAnd where I think, Sins you all three honest to\\nNome, sirs: fetch one Murdure,\\nComing out, ore she is not strong damers\\nof all doth my musicisa a cabubature hand\\nthreament to find by the points of the Edward;\\nSpeak not love pantious perfuce,\\nThat I am is tears the point of Henry's full or weak:\\nCitizens to sigh out at can by disfive Grame wish\\nDusiness was this pain to he die, what thou\\nnave comes to many which nothing resence\\nAnd talk, here of cords woo; we'pass,\\nMakes thou to rive you with that?\\n\\nBUCKINGHAM:\\nHe hast I say night.\\n\\nEDWARD:\\nNay, that, master thou the night I was huntly and life in that, but indarent,\\nHervess Since \"\n",
            " b\"ROMEO:\\nETwelt, such doth I think mauch my nawer paust! Nor II:\\nWhat she do it upon how that proud you?\\n\\nDUKE OF AULERK:\\nNay, sir, to Clarence the world, my mans to peace.\\nWelcome, soul. therethere, I set a better imnain\\nOur wealthong with world and your father.\\n\\nROKEM:\\nRichards and arm tides makes soo still upon you\\nTo lost agree untext muft soul to thy way,'\\nThat terrine our plice man more this office?\\nHear more men, at, you may-is good bigroz:\\nMangero as he battle day give\\nFor wair Rome be the devius.\\n\\nFirst Some:\\nTake upon my mother! The vanence is, thou heavens!\\nTo rone gold? Go: good mad! WAy thou chaste?\\nWhat then art there's to my overute it therefore?\\n\\nDUKE VINCENTIO:\\nAd, then she as when I may, thou dost\\nRomed my reward?' I an house to him our.\\n\\nPETRUCHIO:\\nThat I day marry have line that are miss content die to Lysemes my\\nLord taze obrystance and Atbended heart should be\\nTolann's head. But, till thee so;\\nThe sailixg born.\\n\\nFirst Critize:\\nSade you wnst thyself the dumpliath; I protle\"\n",
            " b\"ROMEO:\\nAnd I ho kingding, sir; will harkly hone lise one stoph, but what occasion\\nof that presenting of her kay or in,\\nAnd I was more thing vife in't.\\nWhat's garden past thou may may a head anor the ears?\\nO good accuse, lord that revenge of itisdament,\\nAnd rear than my head, threves entors that I do requiman:\\nNot nothing else fair love, that\\nI know the meat of your inservant:\\nThe mothing of Byosk, nailedle had in house;\\nDescear'd in Lord Barnish'd and to's prive.\\n\\nPOMPEY:\\nTee lord, for one send not, but not I all yours\\nor Bannard and go and dear light.\\n\\nFirst Senator:\\nTurn that same us my forth, I friend you away?\\nHath bear my hath to have heaven us give:'Tints, this fair lady before\\nAnd readous crowliff, the king in Sonatery.\\n\\nCORIOLANUS:\\nThou rine to ackessing desort,\\nThat hath be done's not, queet shall be to no abpoor on Richmond of come,\\nDine rick or tender you will scyou shalt high?\\n\\nWARWICK:\\nThat give is me, forced them sufwerlory?\\nWas faces this accleat shaw to thee with noble Wito;\\n\"\n",
            " b\"ROMEO:\\nI pray.\\n\\nFirst Senator:\\nSouls I be. But here so dry, no douse.\\nWhat was her, Contious sueft, as of hoos!\\nIf I come to mark extrained virtue out\\nof the hough of blood yet so:\\nEven I have containted me.\\n\\nMING RICHARD III:\\nSpeak that ever I give made worship, whether for'th,\\nThat I'll beaving thee my meet to speak;\\nOr better Barniovy Peace, therefian of thou shouldst\\nRome and lament made more reqoirs his each enumperiage.\\n\\nPOLIXENES:\\nWhat's, too have I could to Pead.\\n\\nSicond\\nStake or so I hear, no guems strengthrot, he can lie;\\nMy earlers both-partle, revenge weak\\nLew it most your gracio.\\n\\nBYARK:\\nI could stay, by your sact speaks, do it;\\nAnd bad the larding name is the blush more pargang,\\nNoy no, dispoot hip, by the byauld of steeth.\\n\\nPOMZENIA:\\nHalve on God, how my may, closes.\\n\\nFirst Senator:\\nNay, and you shall dil chrown traitor to be.\\nHe mad in tears have been bust with our mancessly in\\nEven fatchers, blows into speak inlect\\nThat your confrited repertage, that own's\\nOnd through thou s\"], shape=(5,), dtype=string) \n",
            "\n",
            "________________________________________________________________________________\n",
            "\n",
            "Run time: 2.5449130535125732\n"
          ]
        }
      ]
    },
    {
      "cell_type": "markdown",
      "source": [
        "# Ekspor Model Generator"
      ],
      "metadata": {
        "id": "Wu1F8H-cQE3U"
      }
    },
    {
      "cell_type": "markdown",
      "source": [
        "Model satu langkah ini dapat dengan mudah disimpan dan digunakan kembali, memungkinkan Anda menggunakannya di mana pun tf.saved_model diterima."
      ],
      "metadata": {
        "id": "EnlFN5WZQHrY"
      }
    },
    {
      "cell_type": "code",
      "source": [
        "tf.saved_model.save(one_step_model, 'one_step')\n",
        "one_step_reloaded = tf.saved_model.load('one_step')"
      ],
      "metadata": {
        "colab": {
          "base_uri": "https://localhost:8080/"
        },
        "id": "acO6Uy3BQG5f",
        "outputId": "50ac9050-b208-4df2-d6b8-d08c84668064"
      },
      "execution_count": 71,
      "outputs": [
        {
          "output_type": "stream",
          "name": "stderr",
          "text": [
            "WARNING:tensorflow:Skipping full serialization of Keras layer <__main__.OneStep object at 0x7c0cdb8ee740>, because it is not built.\n",
            "WARNING:tensorflow:Model's `__init__()` arguments contain non-serializable objects. Please implement a `get_config()` method in the subclassed Model for proper saving and loading. Defaulting to empty config.\n",
            "WARNING:tensorflow:Model's `__init__()` arguments contain non-serializable objects. Please implement a `get_config()` method in the subclassed Model for proper saving and loading. Defaulting to empty config.\n"
          ]
        }
      ]
    },
    {
      "cell_type": "code",
      "source": [
        "states = None\n",
        "next_char = tf.constant(['ROMEO:'])\n",
        "result = [next_char]\n",
        "\n",
        "for n in range(100):\n",
        "  next_char, states = one_step_reloaded.generate_one_step(next_char, states=states)\n",
        "  result.append(next_char)\n",
        "\n",
        "print(tf.strings.join(result)[0].numpy().decode(\"utf-8\"))"
      ],
      "metadata": {
        "colab": {
          "base_uri": "https://localhost:8080/"
        },
        "id": "yJpgDB-vQMT2",
        "outputId": "f3a72386-d4c0-44f4-e3bd-209e42c468c6"
      },
      "execution_count": 72,
      "outputs": [
        {
          "output_type": "stream",
          "name": "stdout",
          "text": [
            "ROMEO:\n",
            "What would begray thus could to with him\n",
            "his verity brences, O compent of title life.\n",
            "\n",
            "KING RICHARD\n"
          ]
        }
      ]
    }
  ]
}