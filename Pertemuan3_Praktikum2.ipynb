{
  "nbformat": 4,
  "nbformat_minor": 0,
  "metadata": {
    "colab": {
      "provenance": [],
      "authorship_tag": "ABX9TyNZfUQpbXc6qRsEUS2eUfxd",
      "include_colab_link": true
    },
    "kernelspec": {
      "name": "python3",
      "display_name": "Python 3"
    },
    "language_info": {
      "name": "python"
    }
  },
  "cells": [
    {
      "cell_type": "markdown",
      "metadata": {
        "id": "view-in-github",
        "colab_type": "text"
      },
      "source": [
        "<a href=\"https://colab.research.google.com/github/rafsanalhad/machine_learning_jobsheet/blob/main/Pertemuan3_Praktikum2.ipynb\" target=\"_parent\"><img src=\"https://colab.research.google.com/assets/colab-badge.svg\" alt=\"Open In Colab\"/></a>"
      ]
    },
    {
      "cell_type": "code",
      "execution_count": 1,
      "metadata": {
        "id": "fZOSEHP2s78f"
      },
      "outputs": [],
      "source": [
        "# Import library\n",
        "import numpy as np\n",
        "import pandas as pd\n",
        "import matplotlib.pyplot as plt\n",
        "from sklearn.preprocessing import StandardScaler\n",
        "from sklearn.svm import SVR"
      ]
    },
    {
      "cell_type": "code",
      "source": [
        "# Melakukan import dataset menggunakan pandas\n",
        "\n",
        "df = pd.read_csv(\"Posisi_gaji.csv\")\n",
        "\n",
        "X = df.iloc[:, 1:2].values\n",
        "y = df.iloc[:, 2].values"
      ],
      "metadata": {
        "id": "aAbST5CPtEdu"
      },
      "execution_count": 2,
      "outputs": []
    },
    {
      "cell_type": "code",
      "source": [
        "# Melakukan feature scaling\n",
        "\n",
        "sc_X = StandardScaler()\n",
        "sc_y = StandardScaler()\n",
        "\n",
        "# Melakukan fitting dan transformasi terhadap feature scaling\n",
        "X = sc_X.fit_transform(X.reshape(-1, 1))\n",
        "y = sc_y.fit_transform(y.reshape(-1, 1))\n"
      ],
      "metadata": {
        "id": "ij-spElRtHZ0"
      },
      "execution_count": 3,
      "outputs": []
    },
    {
      "cell_type": "code",
      "source": [
        "# Melakukan fitting model dengan algoritma SVR\n",
        "\n",
        "regressor = SVR(kernel=\"rbf\")\n",
        "regressor.fit(X, y)\n",
        "\n",
        "\n",
        "# Penjelasan kode diatas\n",
        "# regressor = SVR(kernel=\"rbf\") digunakan untuk menginisialisasi objek baru SVR dengan kernel rbf\n",
        "# regressor.fit(X, y) digunakan untuk melakukan fitting model dengan data X dan y"
      ],
      "metadata": {
        "colab": {
          "base_uri": "https://localhost:8080/",
          "height": 110
        },
        "id": "dftwoTs3tJkT",
        "outputId": "b5229a05-8ca2-4402-ce81-272b67387cee"
      },
      "execution_count": 4,
      "outputs": [
        {
          "output_type": "stream",
          "name": "stderr",
          "text": [
            "/usr/local/lib/python3.10/dist-packages/sklearn/utils/validation.py:1183: DataConversionWarning: A column-vector y was passed when a 1d array was expected. Please change the shape of y to (n_samples, ), for example using ravel().\n",
            "  y = column_or_1d(y, warn=True)\n"
          ]
        },
        {
          "output_type": "execute_result",
          "data": {
            "text/plain": [
              "SVR()"
            ],
            "text/html": [
              "<style>#sk-container-id-1 {color: black;}#sk-container-id-1 pre{padding: 0;}#sk-container-id-1 div.sk-toggleable {background-color: white;}#sk-container-id-1 label.sk-toggleable__label {cursor: pointer;display: block;width: 100%;margin-bottom: 0;padding: 0.3em;box-sizing: border-box;text-align: center;}#sk-container-id-1 label.sk-toggleable__label-arrow:before {content: \"▸\";float: left;margin-right: 0.25em;color: #696969;}#sk-container-id-1 label.sk-toggleable__label-arrow:hover:before {color: black;}#sk-container-id-1 div.sk-estimator:hover label.sk-toggleable__label-arrow:before {color: black;}#sk-container-id-1 div.sk-toggleable__content {max-height: 0;max-width: 0;overflow: hidden;text-align: left;background-color: #f0f8ff;}#sk-container-id-1 div.sk-toggleable__content pre {margin: 0.2em;color: black;border-radius: 0.25em;background-color: #f0f8ff;}#sk-container-id-1 input.sk-toggleable__control:checked~div.sk-toggleable__content {max-height: 200px;max-width: 100%;overflow: auto;}#sk-container-id-1 input.sk-toggleable__control:checked~label.sk-toggleable__label-arrow:before {content: \"▾\";}#sk-container-id-1 div.sk-estimator input.sk-toggleable__control:checked~label.sk-toggleable__label {background-color: #d4ebff;}#sk-container-id-1 div.sk-label input.sk-toggleable__control:checked~label.sk-toggleable__label {background-color: #d4ebff;}#sk-container-id-1 input.sk-hidden--visually {border: 0;clip: rect(1px 1px 1px 1px);clip: rect(1px, 1px, 1px, 1px);height: 1px;margin: -1px;overflow: hidden;padding: 0;position: absolute;width: 1px;}#sk-container-id-1 div.sk-estimator {font-family: monospace;background-color: #f0f8ff;border: 1px dotted black;border-radius: 0.25em;box-sizing: border-box;margin-bottom: 0.5em;}#sk-container-id-1 div.sk-estimator:hover {background-color: #d4ebff;}#sk-container-id-1 div.sk-parallel-item::after {content: \"\";width: 100%;border-bottom: 1px solid gray;flex-grow: 1;}#sk-container-id-1 div.sk-label:hover label.sk-toggleable__label {background-color: #d4ebff;}#sk-container-id-1 div.sk-serial::before {content: \"\";position: absolute;border-left: 1px solid gray;box-sizing: border-box;top: 0;bottom: 0;left: 50%;z-index: 0;}#sk-container-id-1 div.sk-serial {display: flex;flex-direction: column;align-items: center;background-color: white;padding-right: 0.2em;padding-left: 0.2em;position: relative;}#sk-container-id-1 div.sk-item {position: relative;z-index: 1;}#sk-container-id-1 div.sk-parallel {display: flex;align-items: stretch;justify-content: center;background-color: white;position: relative;}#sk-container-id-1 div.sk-item::before, #sk-container-id-1 div.sk-parallel-item::before {content: \"\";position: absolute;border-left: 1px solid gray;box-sizing: border-box;top: 0;bottom: 0;left: 50%;z-index: -1;}#sk-container-id-1 div.sk-parallel-item {display: flex;flex-direction: column;z-index: 1;position: relative;background-color: white;}#sk-container-id-1 div.sk-parallel-item:first-child::after {align-self: flex-end;width: 50%;}#sk-container-id-1 div.sk-parallel-item:last-child::after {align-self: flex-start;width: 50%;}#sk-container-id-1 div.sk-parallel-item:only-child::after {width: 0;}#sk-container-id-1 div.sk-dashed-wrapped {border: 1px dashed gray;margin: 0 0.4em 0.5em 0.4em;box-sizing: border-box;padding-bottom: 0.4em;background-color: white;}#sk-container-id-1 div.sk-label label {font-family: monospace;font-weight: bold;display: inline-block;line-height: 1.2em;}#sk-container-id-1 div.sk-label-container {text-align: center;}#sk-container-id-1 div.sk-container {/* jupyter's `normalize.less` sets `[hidden] { display: none; }` but bootstrap.min.css set `[hidden] { display: none !important; }` so we also need the `!important` here to be able to override the default hidden behavior on the sphinx rendered scikit-learn.org. See: https://github.com/scikit-learn/scikit-learn/issues/21755 */display: inline-block !important;position: relative;}#sk-container-id-1 div.sk-text-repr-fallback {display: none;}</style><div id=\"sk-container-id-1\" class=\"sk-top-container\"><div class=\"sk-text-repr-fallback\"><pre>SVR()</pre><b>In a Jupyter environment, please rerun this cell to show the HTML representation or trust the notebook. <br />On GitHub, the HTML representation is unable to render, please try loading this page with nbviewer.org.</b></div><div class=\"sk-container\" hidden><div class=\"sk-item\"><div class=\"sk-estimator sk-toggleable\"><input class=\"sk-toggleable__control sk-hidden--visually\" id=\"sk-estimator-id-1\" type=\"checkbox\" checked><label for=\"sk-estimator-id-1\" class=\"sk-toggleable__label sk-toggleable__label-arrow\">SVR</label><div class=\"sk-toggleable__content\"><pre>SVR()</pre></div></div></div></div></div>"
            ]
          },
          "metadata": {},
          "execution_count": 4
        }
      ]
    },
    {
      "cell_type": "code",
      "source": [
        "# Visualisasi hasil model SVR\n",
        "\n",
        "X_grid = np.arange(min(X), max(X), 0.01).reshape(-1, 1)\n",
        "\n",
        "plt.scatter(X, y, color=\"red\")\n",
        "plt.plot(X_grid, regressor.predict(X_grid), color=\"blue\")\n",
        "plt.title(\"Jujur atau Tidak (SVR)\")\n",
        "plt.xlabel(\"Level Posisi\")\n",
        "plt.ylabel(\"Gaji\")\n",
        "plt.show()"
      ],
      "metadata": {
        "colab": {
          "base_uri": "https://localhost:8080/",
          "height": 527
        },
        "id": "uE6CVVkHtQVd",
        "outputId": "a158be2b-e56d-4623-9bd1-2d497b427044"
      },
      "execution_count": 5,
      "outputs": [
        {
          "output_type": "stream",
          "name": "stderr",
          "text": [
            "<ipython-input-5-1a6338755558>:3: DeprecationWarning: Conversion of an array with ndim > 0 to a scalar is deprecated, and will error in future. Ensure you extract a single element from your array before performing this operation. (Deprecated NumPy 1.25.)\n",
            "  X_grid = np.arange(min(X), max(X), 0.01).reshape(-1, 1)\n"
          ]
        },
        {
          "output_type": "display_data",
          "data": {
            "text/plain": [
              "<Figure size 640x480 with 1 Axes>"
            ],
            "image/png": "[encoded data removed]"
          },
          "metadata": {}
        }
      ]
    },
    {
      "cell_type": "code",
      "source": [
        "# Melakukan prediksi hasil\n",
        "\n",
        "# Membuat array 2D yang digunnakan untuk melakukan prediksi\n",
        "tingkat_posisi_prediksi = np.array([[6.5]])\n",
        "\n",
        "# Penskalaan data yang akan diprediksi\n",
        "tingkat_posisi_prediksi = sc_X.transform(tingkat_posisi_prediksi)\n",
        "\n",
        "# Melakukan prediksi menggunakan model SVR\n",
        "gaji_prediksi = regressor.predict(tingkat_posisi_prediksi)\n",
        "\n",
        "# Mengembalikan hasil prediksi ke skala aslinya\n",
        "gaji_prediksi = sc_y.inverse_transform(gaji_prediksi.reshape(-1, 1))"
      ],
      "metadata": {
        "id": "DhKOiZh7tTP6"
      },
      "execution_count": 6,
      "outputs": []
    },
    {
      "cell_type": "code",
      "source": [
        "print(\"Prediksi Gaji untuk Tingkat Posisi 6.5:\", gaji_prediksi[0])"
      ],
      "metadata": {
        "colab": {
          "base_uri": "https://localhost:8080/"
        },
        "id": "2AlE5J6ntVIx",
        "outputId": "65b2ed2a-2f2b-4769-a1ce-b13254638995"
      },
      "execution_count": 7,
      "outputs": [
        {
          "output_type": "stream",
          "name": "stdout",
          "text": [
            "Prediksi Gaji untuk Tingkat Posisi 6.5: [170370.0204065]\n"
          ]
        }
      ]
    },
    {
      "cell_type": "code",
      "source": [
        "# Evaluasi model\n",
        "\n",
        "# Import objek metrics dari library sklearn\n",
        "from sklearn.metrics import mean_squared_error, r2_score, mean_absolute_error\n",
        "\n",
        "y_actual = y\n",
        "y_pred = regressor.predict(X)\n",
        "\n",
        "# Penjelasan kode diatas\n",
        "# regressor.predict digunakan untuk melakukan prediksi terhadap data X\n",
        "\n",
        "\n",
        "# Menghitung Mean Absolute Error (MAE)\n",
        "mae = mean_absolute_error(y_actual, y_pred)\n",
        "\n",
        "# Menghitung Mean Squared Error (MSE)\n",
        "mse = mean_squared_error(y_actual, y_pred)\n",
        "\n",
        "\n",
        "# Menghitung RMSE\n",
        "rmse = np.sqrt(mse)\n",
        "\n",
        "# Menghitung R2 Score\n",
        "r2_square = r2_score(y_actual, y_pred)\n",
        "\n",
        "# Melakukan print terhadap hasil evaluasi\n",
        "print(\"MAE:\", mae)\n",
        "print(\"MSE:\", mse)\n",
        "print(\"RMSE:\", rmse)\n",
        "print(\"R-squared:\", r2_square)"
      ],
      "metadata": {
        "colab": {
          "base_uri": "https://localhost:8080/"
        },
        "id": "oOCZZ6FctXne",
        "outputId": "9bceacb3-0f2d-4e2c-da48-0cb8a689bd60"
      },
      "execution_count": 8,
      "outputs": [
        {
          "output_type": "stream",
          "name": "stdout",
          "text": [
            "MAE: 0.22299274095734414\n",
            "MSE: 0.24839989293792014\n",
            "RMSE: 0.4983973243687411\n",
            "R-squared: 0.7516001070620798\n"
          ]
        }
      ]
    }
  ]
}